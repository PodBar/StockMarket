{
  "nbformat": 4,
  "nbformat_minor": 0,
  "metadata": {
    "colab": {
      "name": "Finanse.ipynb",
      "provenance": [],
      "collapsed_sections": [],
      "authorship_tag": "ABX9TyN+h+Ygu+lZcmX/XF599Ffp",
      "include_colab_link": true
    },
    "kernelspec": {
      "name": "python3",
      "display_name": "Python 3"
    }
  },
  "cells": [
    {
      "cell_type": "markdown",
      "metadata": {
        "id": "view-in-github",
        "colab_type": "text"
      },
      "source": [
        "<a href=\"https://colab.research.google.com/github/PodBar/StockMarket/blob/master/Finanse.ipynb\" target=\"_parent\"><img src=\"https://colab.research.google.com/assets/colab-badge.svg\" alt=\"Open In Colab\"/></a>"
      ]
    },
    {
      "cell_type": "code",
      "metadata": {
        "id": "m4xyvZuxwGLR",
        "colab_type": "code",
        "colab": {
          "base_uri": "https://localhost:8080/",
          "height": 74
        },
        "outputId": "dbc64b49-afa2-4c22-fb90-a05bf82ecd9c"
      },
      "source": [
        "import pandas as pd\n",
        "import pandas_datareader as pdr\n",
        "import datetime as dt"
      ],
      "execution_count": 1,
      "outputs": [
        {
          "output_type": "stream",
          "text": [
            "/usr/local/lib/python3.6/dist-packages/pandas_datareader/compat/__init__.py:7: FutureWarning: pandas.util.testing is deprecated. Use the functions in the public API at pandas.testing instead.\n",
            "  from pandas.util.testing import assert_frame_equal\n"
          ],
          "name": "stderr"
        }
      ]
    },
    {
      "cell_type": "code",
      "metadata": {
        "id": "hVaqMTb9xomg",
        "colab_type": "code",
        "colab": {}
      },
      "source": [
        "df = pdr.get_data_yahoo(\"AAPL\",start=dt.datetime(2015,1,1),end=dt.datetime(2020,1,1))"
      ],
      "execution_count": 0,
      "outputs": []
    },
    {
      "cell_type": "code",
      "metadata": {
        "id": "dxZDRwfHx9Pc",
        "colab_type": "code",
        "colab": {
          "base_uri": "https://localhost:8080/",
          "height": 237
        },
        "outputId": "7c038566-0022-4b3e-d6fa-978b69156c70"
      },
      "source": [
        "df.head()"
      ],
      "execution_count": 3,
      "outputs": [
        {
          "output_type": "execute_result",
          "data": {
            "text/html": [
              "<div>\n",
              "<style scoped>\n",
              "    .dataframe tbody tr th:only-of-type {\n",
              "        vertical-align: middle;\n",
              "    }\n",
              "\n",
              "    .dataframe tbody tr th {\n",
              "        vertical-align: top;\n",
              "    }\n",
              "\n",
              "    .dataframe thead th {\n",
              "        text-align: right;\n",
              "    }\n",
              "</style>\n",
              "<table border=\"1\" class=\"dataframe\">\n",
              "  <thead>\n",
              "    <tr style=\"text-align: right;\">\n",
              "      <th></th>\n",
              "      <th>High</th>\n",
              "      <th>Low</th>\n",
              "      <th>Open</th>\n",
              "      <th>Close</th>\n",
              "      <th>Volume</th>\n",
              "      <th>Adj Close</th>\n",
              "    </tr>\n",
              "    <tr>\n",
              "      <th>Date</th>\n",
              "      <th></th>\n",
              "      <th></th>\n",
              "      <th></th>\n",
              "      <th></th>\n",
              "      <th></th>\n",
              "      <th></th>\n",
              "    </tr>\n",
              "  </thead>\n",
              "  <tbody>\n",
              "    <tr>\n",
              "      <th>2015-01-02</th>\n",
              "      <td>111.440002</td>\n",
              "      <td>107.349998</td>\n",
              "      <td>111.389999</td>\n",
              "      <td>109.330002</td>\n",
              "      <td>53204600.0</td>\n",
              "      <td>99.945885</td>\n",
              "    </tr>\n",
              "    <tr>\n",
              "      <th>2015-01-05</th>\n",
              "      <td>108.650002</td>\n",
              "      <td>105.410004</td>\n",
              "      <td>108.290001</td>\n",
              "      <td>106.250000</td>\n",
              "      <td>64285500.0</td>\n",
              "      <td>97.130241</td>\n",
              "    </tr>\n",
              "    <tr>\n",
              "      <th>2015-01-06</th>\n",
              "      <td>107.430000</td>\n",
              "      <td>104.629997</td>\n",
              "      <td>106.540001</td>\n",
              "      <td>106.260002</td>\n",
              "      <td>65797100.0</td>\n",
              "      <td>97.139420</td>\n",
              "    </tr>\n",
              "    <tr>\n",
              "      <th>2015-01-07</th>\n",
              "      <td>108.199997</td>\n",
              "      <td>106.699997</td>\n",
              "      <td>107.199997</td>\n",
              "      <td>107.750000</td>\n",
              "      <td>40105900.0</td>\n",
              "      <td>98.501518</td>\n",
              "    </tr>\n",
              "    <tr>\n",
              "      <th>2015-01-08</th>\n",
              "      <td>112.150002</td>\n",
              "      <td>108.699997</td>\n",
              "      <td>109.230003</td>\n",
              "      <td>111.889999</td>\n",
              "      <td>59364500.0</td>\n",
              "      <td>102.286186</td>\n",
              "    </tr>\n",
              "  </tbody>\n",
              "</table>\n",
              "</div>"
            ],
            "text/plain": [
              "                  High         Low  ...      Volume   Adj Close\n",
              "Date                                ...                        \n",
              "2015-01-02  111.440002  107.349998  ...  53204600.0   99.945885\n",
              "2015-01-05  108.650002  105.410004  ...  64285500.0   97.130241\n",
              "2015-01-06  107.430000  104.629997  ...  65797100.0   97.139420\n",
              "2015-01-07  108.199997  106.699997  ...  40105900.0   98.501518\n",
              "2015-01-08  112.150002  108.699997  ...  59364500.0  102.286186\n",
              "\n",
              "[5 rows x 6 columns]"
            ]
          },
          "metadata": {
            "tags": []
          },
          "execution_count": 3
        }
      ]
    },
    {
      "cell_type": "code",
      "metadata": {
        "id": "iLEj5WASx_Xx",
        "colab_type": "code",
        "colab": {
          "base_uri": "https://localhost:8080/",
          "height": 259
        },
        "outputId": "00b5fc8d-88e4-4db1-906d-f8853d217cef"
      },
      "source": [
        "df.info()"
      ],
      "execution_count": 4,
      "outputs": [
        {
          "output_type": "stream",
          "text": [
            "<class 'pandas.core.frame.DataFrame'>\n",
            "DatetimeIndex: 1258 entries, 2015-01-02 to 2019-12-31\n",
            "Data columns (total 6 columns):\n",
            " #   Column     Non-Null Count  Dtype  \n",
            "---  ------     --------------  -----  \n",
            " 0   High       1258 non-null   float64\n",
            " 1   Low        1258 non-null   float64\n",
            " 2   Open       1258 non-null   float64\n",
            " 3   Close      1258 non-null   float64\n",
            " 4   Volume     1258 non-null   float64\n",
            " 5   Adj Close  1258 non-null   float64\n",
            "dtypes: float64(6)\n",
            "memory usage: 68.8 KB\n"
          ],
          "name": "stdout"
        }
      ]
    },
    {
      "cell_type": "code",
      "metadata": {
        "id": "OxvpG1i1yKJo",
        "colab_type": "code",
        "colab": {
          "base_uri": "https://localhost:8080/",
          "height": 455
        },
        "outputId": "2348263d-af88-400b-f55e-c614ffd3a22b"
      },
      "source": [
        "df.resample(\"W\").mean() # przeskalowanie na tydzien"
      ],
      "execution_count": 5,
      "outputs": [
        {
          "output_type": "execute_result",
          "data": {
            "text/html": [
              "<div>\n",
              "<style scoped>\n",
              "    .dataframe tbody tr th:only-of-type {\n",
              "        vertical-align: middle;\n",
              "    }\n",
              "\n",
              "    .dataframe tbody tr th {\n",
              "        vertical-align: top;\n",
              "    }\n",
              "\n",
              "    .dataframe thead th {\n",
              "        text-align: right;\n",
              "    }\n",
              "</style>\n",
              "<table border=\"1\" class=\"dataframe\">\n",
              "  <thead>\n",
              "    <tr style=\"text-align: right;\">\n",
              "      <th></th>\n",
              "      <th>High</th>\n",
              "      <th>Low</th>\n",
              "      <th>Open</th>\n",
              "      <th>Close</th>\n",
              "      <th>Volume</th>\n",
              "      <th>Adj Close</th>\n",
              "    </tr>\n",
              "    <tr>\n",
              "      <th>Date</th>\n",
              "      <th></th>\n",
              "      <th></th>\n",
              "      <th></th>\n",
              "      <th></th>\n",
              "      <th></th>\n",
              "      <th></th>\n",
              "    </tr>\n",
              "  </thead>\n",
              "  <tbody>\n",
              "    <tr>\n",
              "      <th>2015-01-04</th>\n",
              "      <td>111.440002</td>\n",
              "      <td>107.349998</td>\n",
              "      <td>111.389999</td>\n",
              "      <td>109.330002</td>\n",
              "      <td>53204600.0</td>\n",
              "      <td>99.945885</td>\n",
              "    </tr>\n",
              "    <tr>\n",
              "      <th>2015-01-11</th>\n",
              "      <td>109.936000</td>\n",
              "      <td>107.129999</td>\n",
              "      <td>108.786000</td>\n",
              "      <td>108.832001</td>\n",
              "      <td>56650500.0</td>\n",
              "      <td>99.490642</td>\n",
              "    </tr>\n",
              "    <tr>\n",
              "      <th>2015-01-18</th>\n",
              "      <td>110.712000</td>\n",
              "      <td>107.614001</td>\n",
              "      <td>110.020000</td>\n",
              "      <td>108.416000</td>\n",
              "      <td>60845320.0</td>\n",
              "      <td>99.110344</td>\n",
              "    </tr>\n",
              "    <tr>\n",
              "      <th>2015-01-25</th>\n",
              "      <td>111.562500</td>\n",
              "      <td>109.004999</td>\n",
              "      <td>109.837500</td>\n",
              "      <td>110.912502</td>\n",
              "      <td>49684250.0</td>\n",
              "      <td>101.392578</td>\n",
              "    </tr>\n",
              "    <tr>\n",
              "      <th>2015-02-01</th>\n",
              "      <td>116.830002</td>\n",
              "      <td>113.909999</td>\n",
              "      <td>115.701999</td>\n",
              "      <td>114.722000</td>\n",
              "      <td>93168540.0</td>\n",
              "      <td>104.875093</td>\n",
              "    </tr>\n",
              "    <tr>\n",
              "      <th>...</th>\n",
              "      <td>...</td>\n",
              "      <td>...</td>\n",
              "      <td>...</td>\n",
              "      <td>...</td>\n",
              "      <td>...</td>\n",
              "      <td>...</td>\n",
              "    </tr>\n",
              "    <tr>\n",
              "      <th>2019-12-08</th>\n",
              "      <td>265.596002</td>\n",
              "      <td>262.090002</td>\n",
              "      <td>263.584003</td>\n",
              "      <td>264.327997</td>\n",
              "      <td>22829960.0</td>\n",
              "      <td>262.990247</td>\n",
              "    </tr>\n",
              "    <tr>\n",
              "      <th>2019-12-15</th>\n",
              "      <td>271.965997</td>\n",
              "      <td>267.503998</td>\n",
              "      <td>269.329999</td>\n",
              "      <td>270.556000</td>\n",
              "      <td>28405880.0</td>\n",
              "      <td>269.186731</td>\n",
              "    </tr>\n",
              "    <tr>\n",
              "      <th>2019-12-22</th>\n",
              "      <td>281.657996</td>\n",
              "      <td>278.482001</td>\n",
              "      <td>279.620001</td>\n",
              "      <td>279.893994</td>\n",
              "      <td>36636000.0</td>\n",
              "      <td>278.477460</td>\n",
              "    </tr>\n",
              "    <tr>\n",
              "      <th>2019-12-29</th>\n",
              "      <td>288.272507</td>\n",
              "      <td>284.027504</td>\n",
              "      <td>285.290001</td>\n",
              "      <td>286.994995</td>\n",
              "      <td>24152375.0</td>\n",
              "      <td>285.542519</td>\n",
              "    </tr>\n",
              "    <tr>\n",
              "      <th>2020-01-05</th>\n",
              "      <td>293.184998</td>\n",
              "      <td>287.369995</td>\n",
              "      <td>289.694992</td>\n",
              "      <td>292.584991</td>\n",
              "      <td>30615000.0</td>\n",
              "      <td>291.104218</td>\n",
              "    </tr>\n",
              "  </tbody>\n",
              "</table>\n",
              "<p>262 rows × 6 columns</p>\n",
              "</div>"
            ],
            "text/plain": [
              "                  High         Low  ...      Volume   Adj Close\n",
              "Date                                ...                        \n",
              "2015-01-04  111.440002  107.349998  ...  53204600.0   99.945885\n",
              "2015-01-11  109.936000  107.129999  ...  56650500.0   99.490642\n",
              "2015-01-18  110.712000  107.614001  ...  60845320.0   99.110344\n",
              "2015-01-25  111.562500  109.004999  ...  49684250.0  101.392578\n",
              "2015-02-01  116.830002  113.909999  ...  93168540.0  104.875093\n",
              "...                ...         ...  ...         ...         ...\n",
              "2019-12-08  265.596002  262.090002  ...  22829960.0  262.990247\n",
              "2019-12-15  271.965997  267.503998  ...  28405880.0  269.186731\n",
              "2019-12-22  281.657996  278.482001  ...  36636000.0  278.477460\n",
              "2019-12-29  288.272507  284.027504  ...  24152375.0  285.542519\n",
              "2020-01-05  293.184998  287.369995  ...  30615000.0  291.104218\n",
              "\n",
              "[262 rows x 6 columns]"
            ]
          },
          "metadata": {
            "tags": []
          },
          "execution_count": 5
        }
      ]
    },
    {
      "cell_type": "code",
      "metadata": {
        "id": "T_KzF4agy2q_",
        "colab_type": "code",
        "colab": {
          "base_uri": "https://localhost:8080/",
          "height": 1000
        },
        "outputId": "9475054c-b7ae-4a11-8277-1515f03dc798"
      },
      "source": [
        "df.resample(\"M\").last()\n"
      ],
      "execution_count": 6,
      "outputs": [
        {
          "output_type": "execute_result",
          "data": {
            "text/html": [
              "<div>\n",
              "<style scoped>\n",
              "    .dataframe tbody tr th:only-of-type {\n",
              "        vertical-align: middle;\n",
              "    }\n",
              "\n",
              "    .dataframe tbody tr th {\n",
              "        vertical-align: top;\n",
              "    }\n",
              "\n",
              "    .dataframe thead th {\n",
              "        text-align: right;\n",
              "    }\n",
              "</style>\n",
              "<table border=\"1\" class=\"dataframe\">\n",
              "  <thead>\n",
              "    <tr style=\"text-align: right;\">\n",
              "      <th></th>\n",
              "      <th>High</th>\n",
              "      <th>Low</th>\n",
              "      <th>Open</th>\n",
              "      <th>Close</th>\n",
              "      <th>Volume</th>\n",
              "      <th>Adj Close</th>\n",
              "    </tr>\n",
              "    <tr>\n",
              "      <th>Date</th>\n",
              "      <th></th>\n",
              "      <th></th>\n",
              "      <th></th>\n",
              "      <th></th>\n",
              "      <th></th>\n",
              "      <th></th>\n",
              "    </tr>\n",
              "  </thead>\n",
              "  <tbody>\n",
              "    <tr>\n",
              "      <th>2015-01-31</th>\n",
              "      <td>120.000000</td>\n",
              "      <td>116.849998</td>\n",
              "      <td>118.400002</td>\n",
              "      <td>117.160004</td>\n",
              "      <td>83745500.0</td>\n",
              "      <td>107.103836</td>\n",
              "    </tr>\n",
              "    <tr>\n",
              "      <th>2015-02-28</th>\n",
              "      <td>130.570007</td>\n",
              "      <td>128.240005</td>\n",
              "      <td>130.000000</td>\n",
              "      <td>128.460007</td>\n",
              "      <td>62014800.0</td>\n",
              "      <td>117.897400</td>\n",
              "    </tr>\n",
              "    <tr>\n",
              "      <th>2015-03-31</th>\n",
              "      <td>126.489998</td>\n",
              "      <td>124.360001</td>\n",
              "      <td>126.089996</td>\n",
              "      <td>124.430000</td>\n",
              "      <td>42090600.0</td>\n",
              "      <td>114.198746</td>\n",
              "    </tr>\n",
              "    <tr>\n",
              "      <th>2015-04-30</th>\n",
              "      <td>128.639999</td>\n",
              "      <td>124.580002</td>\n",
              "      <td>128.639999</td>\n",
              "      <td>125.150002</td>\n",
              "      <td>83195400.0</td>\n",
              "      <td>114.859558</td>\n",
              "    </tr>\n",
              "    <tr>\n",
              "      <th>2015-05-31</th>\n",
              "      <td>131.449997</td>\n",
              "      <td>129.899994</td>\n",
              "      <td>131.229996</td>\n",
              "      <td>130.279999</td>\n",
              "      <td>50884500.0</td>\n",
              "      <td>120.067184</td>\n",
              "    </tr>\n",
              "    <tr>\n",
              "      <th>2015-06-30</th>\n",
              "      <td>126.120003</td>\n",
              "      <td>124.860001</td>\n",
              "      <td>125.570000</td>\n",
              "      <td>125.430000</td>\n",
              "      <td>44370700.0</td>\n",
              "      <td>115.597382</td>\n",
              "    </tr>\n",
              "    <tr>\n",
              "      <th>2015-07-31</th>\n",
              "      <td>122.639999</td>\n",
              "      <td>120.910004</td>\n",
              "      <td>122.599998</td>\n",
              "      <td>121.300003</td>\n",
              "      <td>42885000.0</td>\n",
              "      <td>111.791130</td>\n",
              "    </tr>\n",
              "    <tr>\n",
              "      <th>2015-08-31</th>\n",
              "      <td>114.529999</td>\n",
              "      <td>112.000000</td>\n",
              "      <td>112.029999</td>\n",
              "      <td>112.760002</td>\n",
              "      <td>56229300.0</td>\n",
              "      <td>104.390999</td>\n",
              "    </tr>\n",
              "    <tr>\n",
              "      <th>2015-09-30</th>\n",
              "      <td>111.540001</td>\n",
              "      <td>108.730003</td>\n",
              "      <td>110.169998</td>\n",
              "      <td>110.300003</td>\n",
              "      <td>66473000.0</td>\n",
              "      <td>102.113564</td>\n",
              "    </tr>\n",
              "    <tr>\n",
              "      <th>2015-10-31</th>\n",
              "      <td>121.220001</td>\n",
              "      <td>119.449997</td>\n",
              "      <td>120.989998</td>\n",
              "      <td>119.500000</td>\n",
              "      <td>49365300.0</td>\n",
              "      <td>110.630745</td>\n",
              "    </tr>\n",
              "    <tr>\n",
              "      <th>2015-11-30</th>\n",
              "      <td>119.410004</td>\n",
              "      <td>117.750000</td>\n",
              "      <td>117.989998</td>\n",
              "      <td>118.300003</td>\n",
              "      <td>39180300.0</td>\n",
              "      <td>109.988617</td>\n",
              "    </tr>\n",
              "    <tr>\n",
              "      <th>2015-12-31</th>\n",
              "      <td>107.029999</td>\n",
              "      <td>104.820000</td>\n",
              "      <td>107.010002</td>\n",
              "      <td>105.260002</td>\n",
              "      <td>40912300.0</td>\n",
              "      <td>97.864746</td>\n",
              "    </tr>\n",
              "    <tr>\n",
              "      <th>2016-01-31</th>\n",
              "      <td>97.339996</td>\n",
              "      <td>94.349998</td>\n",
              "      <td>94.790001</td>\n",
              "      <td>97.339996</td>\n",
              "      <td>64416500.0</td>\n",
              "      <td>90.501190</td>\n",
              "    </tr>\n",
              "    <tr>\n",
              "      <th>2016-02-29</th>\n",
              "      <td>98.230003</td>\n",
              "      <td>96.650002</td>\n",
              "      <td>96.860001</td>\n",
              "      <td>96.690002</td>\n",
              "      <td>35216300.0</td>\n",
              "      <td>90.384682</td>\n",
              "    </tr>\n",
              "    <tr>\n",
              "      <th>2016-03-31</th>\n",
              "      <td>109.900002</td>\n",
              "      <td>108.879997</td>\n",
              "      <td>109.720001</td>\n",
              "      <td>108.989998</td>\n",
              "      <td>25888400.0</td>\n",
              "      <td>101.882561</td>\n",
              "    </tr>\n",
              "    <tr>\n",
              "      <th>2016-04-30</th>\n",
              "      <td>94.720001</td>\n",
              "      <td>92.510002</td>\n",
              "      <td>93.989998</td>\n",
              "      <td>93.739998</td>\n",
              "      <td>68531500.0</td>\n",
              "      <td>87.627037</td>\n",
              "    </tr>\n",
              "    <tr>\n",
              "      <th>2016-05-31</th>\n",
              "      <td>100.400002</td>\n",
              "      <td>98.820000</td>\n",
              "      <td>99.599998</td>\n",
              "      <td>99.860001</td>\n",
              "      <td>42307200.0</td>\n",
              "      <td>93.916290</td>\n",
              "    </tr>\n",
              "    <tr>\n",
              "      <th>2016-06-30</th>\n",
              "      <td>95.769997</td>\n",
              "      <td>94.300003</td>\n",
              "      <td>94.440002</td>\n",
              "      <td>95.599998</td>\n",
              "      <td>35836400.0</td>\n",
              "      <td>89.909843</td>\n",
              "    </tr>\n",
              "    <tr>\n",
              "      <th>2016-07-31</th>\n",
              "      <td>104.550003</td>\n",
              "      <td>103.680000</td>\n",
              "      <td>104.190002</td>\n",
              "      <td>104.209999</td>\n",
              "      <td>27733700.0</td>\n",
              "      <td>98.007370</td>\n",
              "    </tr>\n",
              "    <tr>\n",
              "      <th>2016-08-31</th>\n",
              "      <td>106.570000</td>\n",
              "      <td>105.639999</td>\n",
              "      <td>105.660004</td>\n",
              "      <td>106.099998</td>\n",
              "      <td>29662400.0</td>\n",
              "      <td>100.325439</td>\n",
              "    </tr>\n",
              "    <tr>\n",
              "      <th>2016-09-30</th>\n",
              "      <td>113.370003</td>\n",
              "      <td>111.800003</td>\n",
              "      <td>112.459999</td>\n",
              "      <td>113.050003</td>\n",
              "      <td>36379100.0</td>\n",
              "      <td>106.897194</td>\n",
              "    </tr>\n",
              "    <tr>\n",
              "      <th>2016-10-31</th>\n",
              "      <td>114.230003</td>\n",
              "      <td>113.199997</td>\n",
              "      <td>113.650002</td>\n",
              "      <td>113.540001</td>\n",
              "      <td>26419400.0</td>\n",
              "      <td>107.360497</td>\n",
              "    </tr>\n",
              "    <tr>\n",
              "      <th>2016-11-30</th>\n",
              "      <td>112.199997</td>\n",
              "      <td>110.269997</td>\n",
              "      <td>111.599998</td>\n",
              "      <td>110.519997</td>\n",
              "      <td>36162300.0</td>\n",
              "      <td>105.041428</td>\n",
              "    </tr>\n",
              "    <tr>\n",
              "      <th>2016-12-31</th>\n",
              "      <td>117.199997</td>\n",
              "      <td>115.430000</td>\n",
              "      <td>116.650002</td>\n",
              "      <td>115.820000</td>\n",
              "      <td>30586300.0</td>\n",
              "      <td>110.078697</td>\n",
              "    </tr>\n",
              "    <tr>\n",
              "      <th>2017-01-31</th>\n",
              "      <td>121.389999</td>\n",
              "      <td>120.620003</td>\n",
              "      <td>121.150002</td>\n",
              "      <td>121.349998</td>\n",
              "      <td>49201000.0</td>\n",
              "      <td>115.334564</td>\n",
              "    </tr>\n",
              "    <tr>\n",
              "      <th>2017-02-28</th>\n",
              "      <td>137.440002</td>\n",
              "      <td>136.699997</td>\n",
              "      <td>137.080002</td>\n",
              "      <td>136.990005</td>\n",
              "      <td>23482900.0</td>\n",
              "      <td>130.763809</td>\n",
              "    </tr>\n",
              "    <tr>\n",
              "      <th>2017-03-31</th>\n",
              "      <td>144.270004</td>\n",
              "      <td>143.009995</td>\n",
              "      <td>143.720001</td>\n",
              "      <td>143.660004</td>\n",
              "      <td>19661700.0</td>\n",
              "      <td>137.130630</td>\n",
              "    </tr>\n",
              "    <tr>\n",
              "      <th>2017-04-30</th>\n",
              "      <td>144.300003</td>\n",
              "      <td>143.270004</td>\n",
              "      <td>144.089996</td>\n",
              "      <td>143.649994</td>\n",
              "      <td>20860400.0</td>\n",
              "      <td>137.121063</td>\n",
              "    </tr>\n",
              "    <tr>\n",
              "      <th>2017-05-31</th>\n",
              "      <td>154.169998</td>\n",
              "      <td>152.380005</td>\n",
              "      <td>153.970001</td>\n",
              "      <td>152.759995</td>\n",
              "      <td>24451200.0</td>\n",
              "      <td>146.418884</td>\n",
              "    </tr>\n",
              "    <tr>\n",
              "      <th>2017-06-30</th>\n",
              "      <td>144.960007</td>\n",
              "      <td>143.779999</td>\n",
              "      <td>144.449997</td>\n",
              "      <td>144.020004</td>\n",
              "      <td>23024100.0</td>\n",
              "      <td>138.041687</td>\n",
              "    </tr>\n",
              "    <tr>\n",
              "      <th>2017-07-31</th>\n",
              "      <td>150.330002</td>\n",
              "      <td>148.130005</td>\n",
              "      <td>149.899994</td>\n",
              "      <td>148.729996</td>\n",
              "      <td>19845900.0</td>\n",
              "      <td>142.556168</td>\n",
              "    </tr>\n",
              "    <tr>\n",
              "      <th>2017-08-31</th>\n",
              "      <td>164.520004</td>\n",
              "      <td>163.479996</td>\n",
              "      <td>163.639999</td>\n",
              "      <td>164.000000</td>\n",
              "      <td>26785100.0</td>\n",
              "      <td>157.809616</td>\n",
              "    </tr>\n",
              "    <tr>\n",
              "      <th>2017-09-30</th>\n",
              "      <td>154.130005</td>\n",
              "      <td>152.000000</td>\n",
              "      <td>153.210007</td>\n",
              "      <td>154.119995</td>\n",
              "      <td>26299800.0</td>\n",
              "      <td>148.302521</td>\n",
              "    </tr>\n",
              "    <tr>\n",
              "      <th>2017-10-31</th>\n",
              "      <td>169.649994</td>\n",
              "      <td>166.940002</td>\n",
              "      <td>167.899994</td>\n",
              "      <td>169.039993</td>\n",
              "      <td>36046800.0</td>\n",
              "      <td>162.659363</td>\n",
              "    </tr>\n",
              "    <tr>\n",
              "      <th>2017-11-30</th>\n",
              "      <td>172.139999</td>\n",
              "      <td>168.440002</td>\n",
              "      <td>170.429993</td>\n",
              "      <td>171.850006</td>\n",
              "      <td>41527200.0</td>\n",
              "      <td>165.957764</td>\n",
              "    </tr>\n",
              "    <tr>\n",
              "      <th>2017-12-31</th>\n",
              "      <td>170.589996</td>\n",
              "      <td>169.220001</td>\n",
              "      <td>170.520004</td>\n",
              "      <td>169.229996</td>\n",
              "      <td>25999900.0</td>\n",
              "      <td>163.427597</td>\n",
              "    </tr>\n",
              "    <tr>\n",
              "      <th>2018-01-31</th>\n",
              "      <td>168.440002</td>\n",
              "      <td>166.500000</td>\n",
              "      <td>166.869995</td>\n",
              "      <td>167.429993</td>\n",
              "      <td>32478900.0</td>\n",
              "      <td>161.689316</td>\n",
              "    </tr>\n",
              "    <tr>\n",
              "      <th>2018-02-28</th>\n",
              "      <td>180.619995</td>\n",
              "      <td>178.050003</td>\n",
              "      <td>179.259995</td>\n",
              "      <td>178.119995</td>\n",
              "      <td>37782100.0</td>\n",
              "      <td>172.714111</td>\n",
              "    </tr>\n",
              "    <tr>\n",
              "      <th>2018-03-31</th>\n",
              "      <td>171.750000</td>\n",
              "      <td>166.899994</td>\n",
              "      <td>167.809998</td>\n",
              "      <td>167.779999</td>\n",
              "      <td>38398500.0</td>\n",
              "      <td>162.687927</td>\n",
              "    </tr>\n",
              "    <tr>\n",
              "      <th>2018-04-30</th>\n",
              "      <td>167.259995</td>\n",
              "      <td>161.839996</td>\n",
              "      <td>162.130005</td>\n",
              "      <td>165.259995</td>\n",
              "      <td>42427400.0</td>\n",
              "      <td>160.244400</td>\n",
              "    </tr>\n",
              "    <tr>\n",
              "      <th>2018-05-31</th>\n",
              "      <td>188.229996</td>\n",
              "      <td>186.139999</td>\n",
              "      <td>187.220001</td>\n",
              "      <td>186.869995</td>\n",
              "      <td>27482800.0</td>\n",
              "      <td>181.897247</td>\n",
              "    </tr>\n",
              "    <tr>\n",
              "      <th>2018-06-30</th>\n",
              "      <td>187.190002</td>\n",
              "      <td>182.910004</td>\n",
              "      <td>186.289993</td>\n",
              "      <td>185.110001</td>\n",
              "      <td>22737700.0</td>\n",
              "      <td>180.184082</td>\n",
              "    </tr>\n",
              "    <tr>\n",
              "      <th>2018-07-31</th>\n",
              "      <td>192.139999</td>\n",
              "      <td>189.339996</td>\n",
              "      <td>190.300003</td>\n",
              "      <td>190.289993</td>\n",
              "      <td>39373000.0</td>\n",
              "      <td>185.226242</td>\n",
              "    </tr>\n",
              "    <tr>\n",
              "      <th>2018-08-31</th>\n",
              "      <td>228.869995</td>\n",
              "      <td>226.000000</td>\n",
              "      <td>226.509995</td>\n",
              "      <td>227.630005</td>\n",
              "      <td>43340100.0</td>\n",
              "      <td>222.349686</td>\n",
              "    </tr>\n",
              "    <tr>\n",
              "      <th>2018-09-30</th>\n",
              "      <td>225.839996</td>\n",
              "      <td>224.020004</td>\n",
              "      <td>224.789993</td>\n",
              "      <td>225.740005</td>\n",
              "      <td>22929400.0</td>\n",
              "      <td>220.503540</td>\n",
              "    </tr>\n",
              "    <tr>\n",
              "      <th>2018-10-31</th>\n",
              "      <td>220.449997</td>\n",
              "      <td>216.619995</td>\n",
              "      <td>216.880005</td>\n",
              "      <td>218.860001</td>\n",
              "      <td>38358900.0</td>\n",
              "      <td>213.783142</td>\n",
              "    </tr>\n",
              "    <tr>\n",
              "      <th>2018-11-30</th>\n",
              "      <td>180.330002</td>\n",
              "      <td>177.029999</td>\n",
              "      <td>180.289993</td>\n",
              "      <td>178.580002</td>\n",
              "      <td>39531500.0</td>\n",
              "      <td>175.046158</td>\n",
              "    </tr>\n",
              "    <tr>\n",
              "      <th>2018-12-31</th>\n",
              "      <td>159.360001</td>\n",
              "      <td>156.479996</td>\n",
              "      <td>158.529999</td>\n",
              "      <td>157.740005</td>\n",
              "      <td>35003500.0</td>\n",
              "      <td>154.618546</td>\n",
              "    </tr>\n",
              "    <tr>\n",
              "      <th>2019-01-31</th>\n",
              "      <td>169.000000</td>\n",
              "      <td>164.559998</td>\n",
              "      <td>166.110001</td>\n",
              "      <td>166.440002</td>\n",
              "      <td>40739600.0</td>\n",
              "      <td>163.146362</td>\n",
              "    </tr>\n",
              "    <tr>\n",
              "      <th>2019-02-28</th>\n",
              "      <td>174.910004</td>\n",
              "      <td>172.919998</td>\n",
              "      <td>174.320007</td>\n",
              "      <td>173.149994</td>\n",
              "      <td>28215400.0</td>\n",
              "      <td>170.451508</td>\n",
              "    </tr>\n",
              "    <tr>\n",
              "      <th>2019-03-31</th>\n",
              "      <td>190.080002</td>\n",
              "      <td>188.539993</td>\n",
              "      <td>189.830002</td>\n",
              "      <td>189.949997</td>\n",
              "      <td>23564000.0</td>\n",
              "      <td>186.989685</td>\n",
              "    </tr>\n",
              "    <tr>\n",
              "      <th>2019-04-30</th>\n",
              "      <td>203.399994</td>\n",
              "      <td>199.110001</td>\n",
              "      <td>203.059998</td>\n",
              "      <td>200.669998</td>\n",
              "      <td>46534900.0</td>\n",
              "      <td>197.542618</td>\n",
              "    </tr>\n",
              "    <tr>\n",
              "      <th>2019-05-31</th>\n",
              "      <td>177.990005</td>\n",
              "      <td>174.990005</td>\n",
              "      <td>176.229996</td>\n",
              "      <td>175.070007</td>\n",
              "      <td>27043600.0</td>\n",
              "      <td>173.005280</td>\n",
              "    </tr>\n",
              "    <tr>\n",
              "      <th>2019-06-30</th>\n",
              "      <td>199.500000</td>\n",
              "      <td>197.050003</td>\n",
              "      <td>198.679993</td>\n",
              "      <td>197.919998</td>\n",
              "      <td>31110600.0</td>\n",
              "      <td>195.585770</td>\n",
              "    </tr>\n",
              "    <tr>\n",
              "      <th>2019-07-31</th>\n",
              "      <td>221.369995</td>\n",
              "      <td>211.300003</td>\n",
              "      <td>216.419998</td>\n",
              "      <td>213.039993</td>\n",
              "      <td>69281400.0</td>\n",
              "      <td>210.527466</td>\n",
              "    </tr>\n",
              "    <tr>\n",
              "      <th>2019-08-31</th>\n",
              "      <td>210.449997</td>\n",
              "      <td>207.199997</td>\n",
              "      <td>210.160004</td>\n",
              "      <td>208.740005</td>\n",
              "      <td>21143400.0</td>\n",
              "      <td>207.061920</td>\n",
              "    </tr>\n",
              "    <tr>\n",
              "      <th>2019-09-30</th>\n",
              "      <td>224.580002</td>\n",
              "      <td>220.789993</td>\n",
              "      <td>220.899994</td>\n",
              "      <td>223.970001</td>\n",
              "      <td>25977400.0</td>\n",
              "      <td>222.169479</td>\n",
              "    </tr>\n",
              "    <tr>\n",
              "      <th>2019-10-31</th>\n",
              "      <td>249.169998</td>\n",
              "      <td>237.259995</td>\n",
              "      <td>247.240005</td>\n",
              "      <td>248.759995</td>\n",
              "      <td>34790500.0</td>\n",
              "      <td>246.760193</td>\n",
              "    </tr>\n",
              "    <tr>\n",
              "      <th>2019-11-30</th>\n",
              "      <td>268.000000</td>\n",
              "      <td>265.899994</td>\n",
              "      <td>266.600006</td>\n",
              "      <td>267.250000</td>\n",
              "      <td>11654400.0</td>\n",
              "      <td>265.897461</td>\n",
              "    </tr>\n",
              "    <tr>\n",
              "      <th>2019-12-31</th>\n",
              "      <td>293.679993</td>\n",
              "      <td>289.519989</td>\n",
              "      <td>289.929993</td>\n",
              "      <td>293.649994</td>\n",
              "      <td>25201400.0</td>\n",
              "      <td>292.163818</td>\n",
              "    </tr>\n",
              "  </tbody>\n",
              "</table>\n",
              "</div>"
            ],
            "text/plain": [
              "                  High         Low  ...      Volume   Adj Close\n",
              "Date                                ...                        \n",
              "2015-01-31  120.000000  116.849998  ...  83745500.0  107.103836\n",
              "2015-02-28  130.570007  128.240005  ...  62014800.0  117.897400\n",
              "2015-03-31  126.489998  124.360001  ...  42090600.0  114.198746\n",
              "2015-04-30  128.639999  124.580002  ...  83195400.0  114.859558\n",
              "2015-05-31  131.449997  129.899994  ...  50884500.0  120.067184\n",
              "2015-06-30  126.120003  124.860001  ...  44370700.0  115.597382\n",
              "2015-07-31  122.639999  120.910004  ...  42885000.0  111.791130\n",
              "2015-08-31  114.529999  112.000000  ...  56229300.0  104.390999\n",
              "2015-09-30  111.540001  108.730003  ...  66473000.0  102.113564\n",
              "2015-10-31  121.220001  119.449997  ...  49365300.0  110.630745\n",
              "2015-11-30  119.410004  117.750000  ...  39180300.0  109.988617\n",
              "2015-12-31  107.029999  104.820000  ...  40912300.0   97.864746\n",
              "2016-01-31   97.339996   94.349998  ...  64416500.0   90.501190\n",
              "2016-02-29   98.230003   96.650002  ...  35216300.0   90.384682\n",
              "2016-03-31  109.900002  108.879997  ...  25888400.0  101.882561\n",
              "2016-04-30   94.720001   92.510002  ...  68531500.0   87.627037\n",
              "2016-05-31  100.400002   98.820000  ...  42307200.0   93.916290\n",
              "2016-06-30   95.769997   94.300003  ...  35836400.0   89.909843\n",
              "2016-07-31  104.550003  103.680000  ...  27733700.0   98.007370\n",
              "2016-08-31  106.570000  105.639999  ...  29662400.0  100.325439\n",
              "2016-09-30  113.370003  111.800003  ...  36379100.0  106.897194\n",
              "2016-10-31  114.230003  113.199997  ...  26419400.0  107.360497\n",
              "2016-11-30  112.199997  110.269997  ...  36162300.0  105.041428\n",
              "2016-12-31  117.199997  115.430000  ...  30586300.0  110.078697\n",
              "2017-01-31  121.389999  120.620003  ...  49201000.0  115.334564\n",
              "2017-02-28  137.440002  136.699997  ...  23482900.0  130.763809\n",
              "2017-03-31  144.270004  143.009995  ...  19661700.0  137.130630\n",
              "2017-04-30  144.300003  143.270004  ...  20860400.0  137.121063\n",
              "2017-05-31  154.169998  152.380005  ...  24451200.0  146.418884\n",
              "2017-06-30  144.960007  143.779999  ...  23024100.0  138.041687\n",
              "2017-07-31  150.330002  148.130005  ...  19845900.0  142.556168\n",
              "2017-08-31  164.520004  163.479996  ...  26785100.0  157.809616\n",
              "2017-09-30  154.130005  152.000000  ...  26299800.0  148.302521\n",
              "2017-10-31  169.649994  166.940002  ...  36046800.0  162.659363\n",
              "2017-11-30  172.139999  168.440002  ...  41527200.0  165.957764\n",
              "2017-12-31  170.589996  169.220001  ...  25999900.0  163.427597\n",
              "2018-01-31  168.440002  166.500000  ...  32478900.0  161.689316\n",
              "2018-02-28  180.619995  178.050003  ...  37782100.0  172.714111\n",
              "2018-03-31  171.750000  166.899994  ...  38398500.0  162.687927\n",
              "2018-04-30  167.259995  161.839996  ...  42427400.0  160.244400\n",
              "2018-05-31  188.229996  186.139999  ...  27482800.0  181.897247\n",
              "2018-06-30  187.190002  182.910004  ...  22737700.0  180.184082\n",
              "2018-07-31  192.139999  189.339996  ...  39373000.0  185.226242\n",
              "2018-08-31  228.869995  226.000000  ...  43340100.0  222.349686\n",
              "2018-09-30  225.839996  224.020004  ...  22929400.0  220.503540\n",
              "2018-10-31  220.449997  216.619995  ...  38358900.0  213.783142\n",
              "2018-11-30  180.330002  177.029999  ...  39531500.0  175.046158\n",
              "2018-12-31  159.360001  156.479996  ...  35003500.0  154.618546\n",
              "2019-01-31  169.000000  164.559998  ...  40739600.0  163.146362\n",
              "2019-02-28  174.910004  172.919998  ...  28215400.0  170.451508\n",
              "2019-03-31  190.080002  188.539993  ...  23564000.0  186.989685\n",
              "2019-04-30  203.399994  199.110001  ...  46534900.0  197.542618\n",
              "2019-05-31  177.990005  174.990005  ...  27043600.0  173.005280\n",
              "2019-06-30  199.500000  197.050003  ...  31110600.0  195.585770\n",
              "2019-07-31  221.369995  211.300003  ...  69281400.0  210.527466\n",
              "2019-08-31  210.449997  207.199997  ...  21143400.0  207.061920\n",
              "2019-09-30  224.580002  220.789993  ...  25977400.0  222.169479\n",
              "2019-10-31  249.169998  237.259995  ...  34790500.0  246.760193\n",
              "2019-11-30  268.000000  265.899994  ...  11654400.0  265.897461\n",
              "2019-12-31  293.679993  289.519989  ...  25201400.0  292.163818\n",
              "\n",
              "[60 rows x 6 columns]"
            ]
          },
          "metadata": {
            "tags": []
          },
          "execution_count": 6
        }
      ]
    },
    {
      "cell_type": "code",
      "metadata": {
        "id": "TbAnx1cyzE43",
        "colab_type": "code",
        "colab": {
          "base_uri": "https://localhost:8080/",
          "height": 259
        },
        "outputId": "2f264ab1-277d-4da0-be51-7b739e5fe0ba"
      },
      "source": [
        "df[\"Adj Close\"]"
      ],
      "execution_count": 7,
      "outputs": [
        {
          "output_type": "execute_result",
          "data": {
            "text/plain": [
              "Date\n",
              "2015-01-02     99.945885\n",
              "2015-01-05     97.130241\n",
              "2015-01-06     97.139420\n",
              "2015-01-07     98.501518\n",
              "2015-01-08    102.286186\n",
              "                 ...    \n",
              "2019-12-24    282.831299\n",
              "2019-12-26    288.442780\n",
              "2019-12-27    288.333313\n",
              "2019-12-30    290.044617\n",
              "2019-12-31    292.163818\n",
              "Name: Adj Close, Length: 1258, dtype: float64"
            ]
          },
          "metadata": {
            "tags": []
          },
          "execution_count": 7
        }
      ]
    },
    {
      "cell_type": "code",
      "metadata": {
        "id": "XG0FMuEwzSoG",
        "colab_type": "code",
        "colab": {
          "base_uri": "https://localhost:8080/",
          "height": 290
        },
        "outputId": "c02dceb9-8607-4838-8e86-579d1211cb2d"
      },
      "source": [
        "df[\"Adj Close\"].plot(grid=True)"
      ],
      "execution_count": 9,
      "outputs": [
        {
          "output_type": "execute_result",
          "data": {
            "text/plain": [
              "<matplotlib.axes._subplots.AxesSubplot at 0x7fa0aba6e358>"
            ]
          },
          "metadata": {
            "tags": []
          },
          "execution_count": 9
        },
        {
          "output_type": "display_data",
          "data": {
            "image/png": "[encoded data removed]",
            "text/plain": [
              "<Figure size 432x288 with 1 Axes>"
            ]
          },
          "metadata": {
            "tags": [],
            "needs_background": "light"
          }
        }
      ]
    },
    {
      "cell_type": "code",
      "metadata": {
        "id": "ywWY0nIszXlv",
        "colab_type": "code",
        "colab": {
          "base_uri": "https://localhost:8080/",
          "height": 455
        },
        "outputId": "121051ae-9b21-4227-ac90-19f47fa2c417"
      },
      "source": [
        "df[\"pct_change\"] = df[\"Adj Close\"].pct_change()\n",
        "df"
      ],
      "execution_count": 10,
      "outputs": [
        {
          "output_type": "execute_result",
          "data": {
            "text/html": [
              "<div>\n",
              "<style scoped>\n",
              "    .dataframe tbody tr th:only-of-type {\n",
              "        vertical-align: middle;\n",
              "    }\n",
              "\n",
              "    .dataframe tbody tr th {\n",
              "        vertical-align: top;\n",
              "    }\n",
              "\n",
              "    .dataframe thead th {\n",
              "        text-align: right;\n",
              "    }\n",
              "</style>\n",
              "<table border=\"1\" class=\"dataframe\">\n",
              "  <thead>\n",
              "    <tr style=\"text-align: right;\">\n",
              "      <th></th>\n",
              "      <th>High</th>\n",
              "      <th>Low</th>\n",
              "      <th>Open</th>\n",
              "      <th>Close</th>\n",
              "      <th>Volume</th>\n",
              "      <th>Adj Close</th>\n",
              "      <th>pct_change</th>\n",
              "    </tr>\n",
              "    <tr>\n",
              "      <th>Date</th>\n",
              "      <th></th>\n",
              "      <th></th>\n",
              "      <th></th>\n",
              "      <th></th>\n",
              "      <th></th>\n",
              "      <th></th>\n",
              "      <th></th>\n",
              "    </tr>\n",
              "  </thead>\n",
              "  <tbody>\n",
              "    <tr>\n",
              "      <th>2015-01-02</th>\n",
              "      <td>111.440002</td>\n",
              "      <td>107.349998</td>\n",
              "      <td>111.389999</td>\n",
              "      <td>109.330002</td>\n",
              "      <td>53204600.0</td>\n",
              "      <td>99.945885</td>\n",
              "      <td>NaN</td>\n",
              "    </tr>\n",
              "    <tr>\n",
              "      <th>2015-01-05</th>\n",
              "      <td>108.650002</td>\n",
              "      <td>105.410004</td>\n",
              "      <td>108.290001</td>\n",
              "      <td>106.250000</td>\n",
              "      <td>64285500.0</td>\n",
              "      <td>97.130241</td>\n",
              "      <td>-0.028172</td>\n",
              "    </tr>\n",
              "    <tr>\n",
              "      <th>2015-01-06</th>\n",
              "      <td>107.430000</td>\n",
              "      <td>104.629997</td>\n",
              "      <td>106.540001</td>\n",
              "      <td>106.260002</td>\n",
              "      <td>65797100.0</td>\n",
              "      <td>97.139420</td>\n",
              "      <td>0.000094</td>\n",
              "    </tr>\n",
              "    <tr>\n",
              "      <th>2015-01-07</th>\n",
              "      <td>108.199997</td>\n",
              "      <td>106.699997</td>\n",
              "      <td>107.199997</td>\n",
              "      <td>107.750000</td>\n",
              "      <td>40105900.0</td>\n",
              "      <td>98.501518</td>\n",
              "      <td>0.014022</td>\n",
              "    </tr>\n",
              "    <tr>\n",
              "      <th>2015-01-08</th>\n",
              "      <td>112.150002</td>\n",
              "      <td>108.699997</td>\n",
              "      <td>109.230003</td>\n",
              "      <td>111.889999</td>\n",
              "      <td>59364500.0</td>\n",
              "      <td>102.286186</td>\n",
              "      <td>0.038422</td>\n",
              "    </tr>\n",
              "    <tr>\n",
              "      <th>...</th>\n",
              "      <td>...</td>\n",
              "      <td>...</td>\n",
              "      <td>...</td>\n",
              "      <td>...</td>\n",
              "      <td>...</td>\n",
              "      <td>...</td>\n",
              "      <td>...</td>\n",
              "    </tr>\n",
              "    <tr>\n",
              "      <th>2019-12-24</th>\n",
              "      <td>284.890015</td>\n",
              "      <td>282.920013</td>\n",
              "      <td>284.690002</td>\n",
              "      <td>284.269989</td>\n",
              "      <td>12119700.0</td>\n",
              "      <td>282.831299</td>\n",
              "      <td>0.000951</td>\n",
              "    </tr>\n",
              "    <tr>\n",
              "      <th>2019-12-26</th>\n",
              "      <td>289.980011</td>\n",
              "      <td>284.700012</td>\n",
              "      <td>284.820007</td>\n",
              "      <td>289.910004</td>\n",
              "      <td>23280300.0</td>\n",
              "      <td>288.442780</td>\n",
              "      <td>0.019840</td>\n",
              "    </tr>\n",
              "    <tr>\n",
              "      <th>2019-12-27</th>\n",
              "      <td>293.970001</td>\n",
              "      <td>288.119995</td>\n",
              "      <td>291.119995</td>\n",
              "      <td>289.799988</td>\n",
              "      <td>36566500.0</td>\n",
              "      <td>288.333313</td>\n",
              "      <td>-0.000380</td>\n",
              "    </tr>\n",
              "    <tr>\n",
              "      <th>2019-12-30</th>\n",
              "      <td>292.690002</td>\n",
              "      <td>285.220001</td>\n",
              "      <td>289.459991</td>\n",
              "      <td>291.519989</td>\n",
              "      <td>36028600.0</td>\n",
              "      <td>290.044617</td>\n",
              "      <td>0.005935</td>\n",
              "    </tr>\n",
              "    <tr>\n",
              "      <th>2019-12-31</th>\n",
              "      <td>293.679993</td>\n",
              "      <td>289.519989</td>\n",
              "      <td>289.929993</td>\n",
              "      <td>293.649994</td>\n",
              "      <td>25201400.0</td>\n",
              "      <td>292.163818</td>\n",
              "      <td>0.007306</td>\n",
              "    </tr>\n",
              "  </tbody>\n",
              "</table>\n",
              "<p>1258 rows × 7 columns</p>\n",
              "</div>"
            ],
            "text/plain": [
              "                  High         Low  ...   Adj Close  pct_change\n",
              "Date                                ...                        \n",
              "2015-01-02  111.440002  107.349998  ...   99.945885         NaN\n",
              "2015-01-05  108.650002  105.410004  ...   97.130241   -0.028172\n",
              "2015-01-06  107.430000  104.629997  ...   97.139420    0.000094\n",
              "2015-01-07  108.199997  106.699997  ...   98.501518    0.014022\n",
              "2015-01-08  112.150002  108.699997  ...  102.286186    0.038422\n",
              "...                ...         ...  ...         ...         ...\n",
              "2019-12-24  284.890015  282.920013  ...  282.831299    0.000951\n",
              "2019-12-26  289.980011  284.700012  ...  288.442780    0.019840\n",
              "2019-12-27  293.970001  288.119995  ...  288.333313   -0.000380\n",
              "2019-12-30  292.690002  285.220001  ...  290.044617    0.005935\n",
              "2019-12-31  293.679993  289.519989  ...  292.163818    0.007306\n",
              "\n",
              "[1258 rows x 7 columns]"
            ]
          },
          "metadata": {
            "tags": []
          },
          "execution_count": 10
        }
      ]
    },
    {
      "cell_type": "code",
      "metadata": {
        "id": "mJTezZPv0rVb",
        "colab_type": "code",
        "colab": {}
      },
      "source": [
        "import numpy as np"
      ],
      "execution_count": 0,
      "outputs": []
    },
    {
      "cell_type": "code",
      "metadata": {
        "id": "6FqpfnjA0t3F",
        "colab_type": "code",
        "colab": {}
      },
      "source": [
        "df[\"log_change\"] = np.log(df[\"Adj Close\"].pct_change()+1)"
      ],
      "execution_count": 0,
      "outputs": []
    },
    {
      "cell_type": "code",
      "metadata": {
        "id": "hGhqXR3c04ia",
        "colab_type": "code",
        "colab": {
          "base_uri": "https://localhost:8080/",
          "height": 455
        },
        "outputId": "439df021-118c-4560-b8a5-b904efadc290"
      },
      "source": [
        "df"
      ],
      "execution_count": 13,
      "outputs": [
        {
          "output_type": "execute_result",
          "data": {
            "text/html": [
              "<div>\n",
              "<style scoped>\n",
              "    .dataframe tbody tr th:only-of-type {\n",
              "        vertical-align: middle;\n",
              "    }\n",
              "\n",
              "    .dataframe tbody tr th {\n",
              "        vertical-align: top;\n",
              "    }\n",
              "\n",
              "    .dataframe thead th {\n",
              "        text-align: right;\n",
              "    }\n",
              "</style>\n",
              "<table border=\"1\" class=\"dataframe\">\n",
              "  <thead>\n",
              "    <tr style=\"text-align: right;\">\n",
              "      <th></th>\n",
              "      <th>High</th>\n",
              "      <th>Low</th>\n",
              "      <th>Open</th>\n",
              "      <th>Close</th>\n",
              "      <th>Volume</th>\n",
              "      <th>Adj Close</th>\n",
              "      <th>pct_change</th>\n",
              "      <th>log_change</th>\n",
              "    </tr>\n",
              "    <tr>\n",
              "      <th>Date</th>\n",
              "      <th></th>\n",
              "      <th></th>\n",
              "      <th></th>\n",
              "      <th></th>\n",
              "      <th></th>\n",
              "      <th></th>\n",
              "      <th></th>\n",
              "      <th></th>\n",
              "    </tr>\n",
              "  </thead>\n",
              "  <tbody>\n",
              "    <tr>\n",
              "      <th>2015-01-02</th>\n",
              "      <td>111.440002</td>\n",
              "      <td>107.349998</td>\n",
              "      <td>111.389999</td>\n",
              "      <td>109.330002</td>\n",
              "      <td>53204600.0</td>\n",
              "      <td>99.945885</td>\n",
              "      <td>NaN</td>\n",
              "      <td>NaN</td>\n",
              "    </tr>\n",
              "    <tr>\n",
              "      <th>2015-01-05</th>\n",
              "      <td>108.650002</td>\n",
              "      <td>105.410004</td>\n",
              "      <td>108.290001</td>\n",
              "      <td>106.250000</td>\n",
              "      <td>64285500.0</td>\n",
              "      <td>97.130241</td>\n",
              "      <td>-0.028172</td>\n",
              "      <td>-0.028576</td>\n",
              "    </tr>\n",
              "    <tr>\n",
              "      <th>2015-01-06</th>\n",
              "      <td>107.430000</td>\n",
              "      <td>104.629997</td>\n",
              "      <td>106.540001</td>\n",
              "      <td>106.260002</td>\n",
              "      <td>65797100.0</td>\n",
              "      <td>97.139420</td>\n",
              "      <td>0.000094</td>\n",
              "      <td>0.000094</td>\n",
              "    </tr>\n",
              "    <tr>\n",
              "      <th>2015-01-07</th>\n",
              "      <td>108.199997</td>\n",
              "      <td>106.699997</td>\n",
              "      <td>107.199997</td>\n",
              "      <td>107.750000</td>\n",
              "      <td>40105900.0</td>\n",
              "      <td>98.501518</td>\n",
              "      <td>0.014022</td>\n",
              "      <td>0.013925</td>\n",
              "    </tr>\n",
              "    <tr>\n",
              "      <th>2015-01-08</th>\n",
              "      <td>112.150002</td>\n",
              "      <td>108.699997</td>\n",
              "      <td>109.230003</td>\n",
              "      <td>111.889999</td>\n",
              "      <td>59364500.0</td>\n",
              "      <td>102.286186</td>\n",
              "      <td>0.038422</td>\n",
              "      <td>0.037703</td>\n",
              "    </tr>\n",
              "    <tr>\n",
              "      <th>...</th>\n",
              "      <td>...</td>\n",
              "      <td>...</td>\n",
              "      <td>...</td>\n",
              "      <td>...</td>\n",
              "      <td>...</td>\n",
              "      <td>...</td>\n",
              "      <td>...</td>\n",
              "      <td>...</td>\n",
              "    </tr>\n",
              "    <tr>\n",
              "      <th>2019-12-24</th>\n",
              "      <td>284.890015</td>\n",
              "      <td>282.920013</td>\n",
              "      <td>284.690002</td>\n",
              "      <td>284.269989</td>\n",
              "      <td>12119700.0</td>\n",
              "      <td>282.831299</td>\n",
              "      <td>0.000951</td>\n",
              "      <td>0.000950</td>\n",
              "    </tr>\n",
              "    <tr>\n",
              "      <th>2019-12-26</th>\n",
              "      <td>289.980011</td>\n",
              "      <td>284.700012</td>\n",
              "      <td>284.820007</td>\n",
              "      <td>289.910004</td>\n",
              "      <td>23280300.0</td>\n",
              "      <td>288.442780</td>\n",
              "      <td>0.019840</td>\n",
              "      <td>0.019646</td>\n",
              "    </tr>\n",
              "    <tr>\n",
              "      <th>2019-12-27</th>\n",
              "      <td>293.970001</td>\n",
              "      <td>288.119995</td>\n",
              "      <td>291.119995</td>\n",
              "      <td>289.799988</td>\n",
              "      <td>36566500.0</td>\n",
              "      <td>288.333313</td>\n",
              "      <td>-0.000380</td>\n",
              "      <td>-0.000380</td>\n",
              "    </tr>\n",
              "    <tr>\n",
              "      <th>2019-12-30</th>\n",
              "      <td>292.690002</td>\n",
              "      <td>285.220001</td>\n",
              "      <td>289.459991</td>\n",
              "      <td>291.519989</td>\n",
              "      <td>36028600.0</td>\n",
              "      <td>290.044617</td>\n",
              "      <td>0.005935</td>\n",
              "      <td>0.005918</td>\n",
              "    </tr>\n",
              "    <tr>\n",
              "      <th>2019-12-31</th>\n",
              "      <td>293.679993</td>\n",
              "      <td>289.519989</td>\n",
              "      <td>289.929993</td>\n",
              "      <td>293.649994</td>\n",
              "      <td>25201400.0</td>\n",
              "      <td>292.163818</td>\n",
              "      <td>0.007306</td>\n",
              "      <td>0.007280</td>\n",
              "    </tr>\n",
              "  </tbody>\n",
              "</table>\n",
              "<p>1258 rows × 8 columns</p>\n",
              "</div>"
            ],
            "text/plain": [
              "                  High         Low  ...  pct_change  log_change\n",
              "Date                                ...                        \n",
              "2015-01-02  111.440002  107.349998  ...         NaN         NaN\n",
              "2015-01-05  108.650002  105.410004  ...   -0.028172   -0.028576\n",
              "2015-01-06  107.430000  104.629997  ...    0.000094    0.000094\n",
              "2015-01-07  108.199997  106.699997  ...    0.014022    0.013925\n",
              "2015-01-08  112.150002  108.699997  ...    0.038422    0.037703\n",
              "...                ...         ...  ...         ...         ...\n",
              "2019-12-24  284.890015  282.920013  ...    0.000951    0.000950\n",
              "2019-12-26  289.980011  284.700012  ...    0.019840    0.019646\n",
              "2019-12-27  293.970001  288.119995  ...   -0.000380   -0.000380\n",
              "2019-12-30  292.690002  285.220001  ...    0.005935    0.005918\n",
              "2019-12-31  293.679993  289.519989  ...    0.007306    0.007280\n",
              "\n",
              "[1258 rows x 8 columns]"
            ]
          },
          "metadata": {
            "tags": []
          },
          "execution_count": 13
        }
      ]
    },
    {
      "cell_type": "code",
      "metadata": {
        "id": "-6uM3MoX05AM",
        "colab_type": "code",
        "colab": {
          "base_uri": "https://localhost:8080/",
          "height": 284
        },
        "outputId": "5185cbc1-ffd8-4440-f2a3-8676e7293414"
      },
      "source": [
        "df[\"log_change\"].hist(bins=50)"
      ],
      "execution_count": 14,
      "outputs": [
        {
          "output_type": "execute_result",
          "data": {
            "text/plain": [
              "<matplotlib.axes._subplots.AxesSubplot at 0x7fa0ac216a58>"
            ]
          },
          "metadata": {
            "tags": []
          },
          "execution_count": 14
        },
        {
          "output_type": "display_data",
          "data": {
            "image/png": "[encoded data removed]",
            "text/plain": [
              "<Figure size 432x288 with 1 Axes>"
            ]
          },
          "metadata": {
            "tags": [],
            "needs_background": "light"
          }
        }
      ]
    },
    {
      "cell_type": "code",
      "metadata": {
        "id": "C9TwsBr41Bvd",
        "colab_type": "code",
        "colab": {
          "base_uri": "https://localhost:8080/",
          "height": 184
        },
        "outputId": "5c097fdc-653b-44b0-f838-558e76caeea6"
      },
      "source": [
        "df[\"log_change\"].describe()"
      ],
      "execution_count": 16,
      "outputs": [
        {
          "output_type": "execute_result",
          "data": {
            "text/plain": [
              "count    1257.000000\n",
              "mean        0.000853\n",
              "std         0.015672\n",
              "min        -0.104924\n",
              "25%        -0.005874\n",
              "50%         0.000893\n",
              "75%         0.008879\n",
              "max         0.068052\n",
              "Name: log_change, dtype: float64"
            ]
          },
          "metadata": {
            "tags": []
          },
          "execution_count": 16
        }
      ]
    },
    {
      "cell_type": "code",
      "metadata": {
        "id": "ynYC1c6c1l63",
        "colab_type": "code",
        "colab": {}
      },
      "source": [
        "aap = pdr.get_data_yahoo(\"AAPL\",start = dt.datetime(2019,1,1))\n",
        "sp500 = pdr.get_data_yahoo(\"^GSPC\",start=dt.datetime(2019,1,1))"
      ],
      "execution_count": 0,
      "outputs": []
    },
    {
      "cell_type": "code",
      "metadata": {
        "id": "6821bQZc3OR7",
        "colab_type": "code",
        "colab": {}
      },
      "source": [
        "aap[\"pct_change\"] = aap[\"Adj Close\"].pct_change()\n",
        "sp500[\"pct_change\"] = sp500[\"Adj Close\"].pct_change()"
      ],
      "execution_count": 0,
      "outputs": []
    },
    {
      "cell_type": "code",
      "metadata": {
        "id": "PXEHL8CP3waX",
        "colab_type": "code",
        "colab": {
          "base_uri": "https://localhost:8080/",
          "height": 237
        },
        "outputId": "3a759f19-140e-497c-b3d6-7f74e76603a6"
      },
      "source": [
        "sp500.head()"
      ],
      "execution_count": 19,
      "outputs": [
        {
          "output_type": "execute_result",
          "data": {
            "text/html": [
              "<div>\n",
              "<style scoped>\n",
              "    .dataframe tbody tr th:only-of-type {\n",
              "        vertical-align: middle;\n",
              "    }\n",
              "\n",
              "    .dataframe tbody tr th {\n",
              "        vertical-align: top;\n",
              "    }\n",
              "\n",
              "    .dataframe thead th {\n",
              "        text-align: right;\n",
              "    }\n",
              "</style>\n",
              "<table border=\"1\" class=\"dataframe\">\n",
              "  <thead>\n",
              "    <tr style=\"text-align: right;\">\n",
              "      <th></th>\n",
              "      <th>High</th>\n",
              "      <th>Low</th>\n",
              "      <th>Open</th>\n",
              "      <th>Close</th>\n",
              "      <th>Volume</th>\n",
              "      <th>Adj Close</th>\n",
              "      <th>pct_change</th>\n",
              "    </tr>\n",
              "    <tr>\n",
              "      <th>Date</th>\n",
              "      <th></th>\n",
              "      <th></th>\n",
              "      <th></th>\n",
              "      <th></th>\n",
              "      <th></th>\n",
              "      <th></th>\n",
              "      <th></th>\n",
              "    </tr>\n",
              "  </thead>\n",
              "  <tbody>\n",
              "    <tr>\n",
              "      <th>2019-01-02</th>\n",
              "      <td>2519.489990</td>\n",
              "      <td>2467.469971</td>\n",
              "      <td>2476.959961</td>\n",
              "      <td>2510.030029</td>\n",
              "      <td>3733160000</td>\n",
              "      <td>2510.030029</td>\n",
              "      <td>NaN</td>\n",
              "    </tr>\n",
              "    <tr>\n",
              "      <th>2019-01-03</th>\n",
              "      <td>2493.139893</td>\n",
              "      <td>2443.959961</td>\n",
              "      <td>2491.919922</td>\n",
              "      <td>2447.889893</td>\n",
              "      <td>3822860000</td>\n",
              "      <td>2447.889893</td>\n",
              "      <td>-0.024757</td>\n",
              "    </tr>\n",
              "    <tr>\n",
              "      <th>2019-01-04</th>\n",
              "      <td>2538.070068</td>\n",
              "      <td>2474.330078</td>\n",
              "      <td>2474.330078</td>\n",
              "      <td>2531.939941</td>\n",
              "      <td>4213410000</td>\n",
              "      <td>2531.939941</td>\n",
              "      <td>0.034336</td>\n",
              "    </tr>\n",
              "    <tr>\n",
              "      <th>2019-01-07</th>\n",
              "      <td>2566.159912</td>\n",
              "      <td>2524.560059</td>\n",
              "      <td>2535.610107</td>\n",
              "      <td>2549.689941</td>\n",
              "      <td>4104710000</td>\n",
              "      <td>2549.689941</td>\n",
              "      <td>0.007010</td>\n",
              "    </tr>\n",
              "    <tr>\n",
              "      <th>2019-01-08</th>\n",
              "      <td>2579.820068</td>\n",
              "      <td>2547.560059</td>\n",
              "      <td>2568.110107</td>\n",
              "      <td>2574.409912</td>\n",
              "      <td>4083030000</td>\n",
              "      <td>2574.409912</td>\n",
              "      <td>0.009695</td>\n",
              "    </tr>\n",
              "  </tbody>\n",
              "</table>\n",
              "</div>"
            ],
            "text/plain": [
              "                   High          Low  ...    Adj Close  pct_change\n",
              "Date                                  ...                         \n",
              "2019-01-02  2519.489990  2467.469971  ...  2510.030029         NaN\n",
              "2019-01-03  2493.139893  2443.959961  ...  2447.889893   -0.024757\n",
              "2019-01-04  2538.070068  2474.330078  ...  2531.939941    0.034336\n",
              "2019-01-07  2566.159912  2524.560059  ...  2549.689941    0.007010\n",
              "2019-01-08  2579.820068  2547.560059  ...  2574.409912    0.009695\n",
              "\n",
              "[5 rows x 7 columns]"
            ]
          },
          "metadata": {
            "tags": []
          },
          "execution_count": 19
        }
      ]
    },
    {
      "cell_type": "code",
      "metadata": {
        "id": "gJSpzsVv3yn3",
        "colab_type": "code",
        "colab": {}
      },
      "source": [
        "portfolio = pd.concat([aap,sp500],keys=[\"aap\",\"sp500\"],names=[\"Ticker\",\"Date\"])"
      ],
      "execution_count": 0,
      "outputs": []
    },
    {
      "cell_type": "code",
      "metadata": {
        "id": "91zh1ll54jR6",
        "colab_type": "code",
        "colab": {}
      },
      "source": [
        "portfolio = portfolio[[\"Adj Close\"]].reset_index().pivot(index=\"Date\",columns=\"Ticker\",values = \"Adj Close\")"
      ],
      "execution_count": 0,
      "outputs": []
    },
    {
      "cell_type": "code",
      "metadata": {
        "id": "CFLc2vRG5L9K",
        "colab_type": "code",
        "colab": {
          "base_uri": "https://localhost:8080/",
          "height": 455
        },
        "outputId": "345f21ef-860e-4712-ad43-b66a094516d4"
      },
      "source": [
        "portfolio"
      ],
      "execution_count": 28,
      "outputs": [
        {
          "output_type": "execute_result",
          "data": {
            "text/html": [
              "<div>\n",
              "<style scoped>\n",
              "    .dataframe tbody tr th:only-of-type {\n",
              "        vertical-align: middle;\n",
              "    }\n",
              "\n",
              "    .dataframe tbody tr th {\n",
              "        vertical-align: top;\n",
              "    }\n",
              "\n",
              "    .dataframe thead th {\n",
              "        text-align: right;\n",
              "    }\n",
              "</style>\n",
              "<table border=\"1\" class=\"dataframe\">\n",
              "  <thead>\n",
              "    <tr style=\"text-align: right;\">\n",
              "      <th>Ticker</th>\n",
              "      <th>aap</th>\n",
              "      <th>sp500</th>\n",
              "    </tr>\n",
              "    <tr>\n",
              "      <th>Date</th>\n",
              "      <th></th>\n",
              "      <th></th>\n",
              "    </tr>\n",
              "  </thead>\n",
              "  <tbody>\n",
              "    <tr>\n",
              "      <th>2019-01-02</th>\n",
              "      <td>154.794983</td>\n",
              "      <td>2510.030029</td>\n",
              "    </tr>\n",
              "    <tr>\n",
              "      <th>2019-01-03</th>\n",
              "      <td>139.376251</td>\n",
              "      <td>2447.889893</td>\n",
              "    </tr>\n",
              "    <tr>\n",
              "      <th>2019-01-04</th>\n",
              "      <td>145.326126</td>\n",
              "      <td>2531.939941</td>\n",
              "    </tr>\n",
              "    <tr>\n",
              "      <th>2019-01-07</th>\n",
              "      <td>145.002686</td>\n",
              "      <td>2549.689941</td>\n",
              "    </tr>\n",
              "    <tr>\n",
              "      <th>2019-01-08</th>\n",
              "      <td>147.766861</td>\n",
              "      <td>2574.409912</td>\n",
              "    </tr>\n",
              "    <tr>\n",
              "      <th>...</th>\n",
              "      <td>...</td>\n",
              "      <td>...</td>\n",
              "    </tr>\n",
              "    <tr>\n",
              "      <th>2020-05-07</th>\n",
              "      <td>302.919983</td>\n",
              "      <td>2881.189941</td>\n",
              "    </tr>\n",
              "    <tr>\n",
              "      <th>2020-05-08</th>\n",
              "      <td>310.130005</td>\n",
              "      <td>2929.800049</td>\n",
              "    </tr>\n",
              "    <tr>\n",
              "      <th>2020-05-11</th>\n",
              "      <td>315.010010</td>\n",
              "      <td>2930.189941</td>\n",
              "    </tr>\n",
              "    <tr>\n",
              "      <th>2020-05-12</th>\n",
              "      <td>311.410004</td>\n",
              "      <td>2870.120117</td>\n",
              "    </tr>\n",
              "    <tr>\n",
              "      <th>2020-05-13</th>\n",
              "      <td>305.179993</td>\n",
              "      <td>2806.209961</td>\n",
              "    </tr>\n",
              "  </tbody>\n",
              "</table>\n",
              "<p>344 rows × 2 columns</p>\n",
              "</div>"
            ],
            "text/plain": [
              "Ticker             aap        sp500\n",
              "Date                               \n",
              "2019-01-02  154.794983  2510.030029\n",
              "2019-01-03  139.376251  2447.889893\n",
              "2019-01-04  145.326126  2531.939941\n",
              "2019-01-07  145.002686  2549.689941\n",
              "2019-01-08  147.766861  2574.409912\n",
              "...                ...          ...\n",
              "2020-05-07  302.919983  2881.189941\n",
              "2020-05-08  310.130005  2929.800049\n",
              "2020-05-11  315.010010  2930.189941\n",
              "2020-05-12  311.410004  2870.120117\n",
              "2020-05-13  305.179993  2806.209961\n",
              "\n",
              "[344 rows x 2 columns]"
            ]
          },
          "metadata": {
            "tags": []
          },
          "execution_count": 28
        }
      ]
    },
    {
      "cell_type": "code",
      "metadata": {
        "id": "YO1LG6wg5QzK",
        "colab_type": "code",
        "colab": {
          "base_uri": "https://localhost:8080/",
          "height": 337
        },
        "outputId": "6b4d8db1-b88e-4be0-84d4-e37085e03e66"
      },
      "source": [
        "portfolio.pct_change().hist(bins=50,sharex=True)"
      ],
      "execution_count": 29,
      "outputs": [
        {
          "output_type": "execute_result",
          "data": {
            "text/plain": [
              "array([[<matplotlib.axes._subplots.AxesSubplot object at 0x7fa0a9f6c048>,\n",
              "        <matplotlib.axes._subplots.AxesSubplot object at 0x7fa0a820c588>]],\n",
              "      dtype=object)"
            ]
          },
          "metadata": {
            "tags": []
          },
          "execution_count": 29
        },
        {
          "output_type": "display_data",
          "data": {
            "image/png": "[encoded data removed]",
            "text/plain": [
              "<Figure size 432x288 with 2 Axes>"
            ]
          },
          "metadata": {
            "tags": [],
            "needs_background": "light"
          }
        }
      ]
    },
    {
      "cell_type": "code",
      "metadata": {
        "id": "9L8BraAd5vl7",
        "colab_type": "code",
        "colab": {
          "base_uri": "https://localhost:8080/",
          "height": 296
        },
        "outputId": "c8dcdd6d-a583-4c59-c272-951ebdbff4e3"
      },
      "source": [
        "(1+portfolio.pct_change()).cumprod().fillna(1).plot()"
      ],
      "execution_count": 32,
      "outputs": [
        {
          "output_type": "execute_result",
          "data": {
            "text/plain": [
              "<matplotlib.axes._subplots.AxesSubplot at 0x7fa0a804f828>"
            ]
          },
          "metadata": {
            "tags": []
          },
          "execution_count": 32
        },
        {
          "output_type": "display_data",
          "data": {
            "image/png": "[encoded data removed]",
            "text/plain": [
              "<Figure size 432x288 with 1 Axes>"
            ]
          },
          "metadata": {
            "tags": [],
            "needs_background": "light"
          }
        }
      ]
    },
    {
      "cell_type": "code",
      "metadata": {
        "id": "Z79kg9fz6uAt",
        "colab_type": "code",
        "colab": {}
      },
      "source": [
        "df[\"42mean\"] = df[\"Adj Close\"].rolling(window=42).mean()"
      ],
      "execution_count": 0,
      "outputs": []
    },
    {
      "cell_type": "code",
      "metadata": {
        "id": "woxcyJv67wH1",
        "colab_type": "code",
        "colab": {}
      },
      "source": [
        "df[\"252mean\"] = df[\"Adj Close\"].rolling(window=252).mean()"
      ],
      "execution_count": 0,
      "outputs": []
    },
    {
      "cell_type": "code",
      "metadata": {
        "id": "_ygmtKYi70jU",
        "colab_type": "code",
        "colab": {
          "base_uri": "https://localhost:8080/",
          "height": 455
        },
        "outputId": "051aac34-2bea-4c09-bb27-20f5b7686ec9"
      },
      "source": [
        "df"
      ],
      "execution_count": 35,
      "outputs": [
        {
          "output_type": "execute_result",
          "data": {
            "text/html": [
              "<div>\n",
              "<style scoped>\n",
              "    .dataframe tbody tr th:only-of-type {\n",
              "        vertical-align: middle;\n",
              "    }\n",
              "\n",
              "    .dataframe tbody tr th {\n",
              "        vertical-align: top;\n",
              "    }\n",
              "\n",
              "    .dataframe thead th {\n",
              "        text-align: right;\n",
              "    }\n",
              "</style>\n",
              "<table border=\"1\" class=\"dataframe\">\n",
              "  <thead>\n",
              "    <tr style=\"text-align: right;\">\n",
              "      <th></th>\n",
              "      <th>High</th>\n",
              "      <th>Low</th>\n",
              "      <th>Open</th>\n",
              "      <th>Close</th>\n",
              "      <th>Volume</th>\n",
              "      <th>Adj Close</th>\n",
              "      <th>pct_change</th>\n",
              "      <th>log_change</th>\n",
              "      <th>42mean</th>\n",
              "      <th>252mean</th>\n",
              "    </tr>\n",
              "    <tr>\n",
              "      <th>Date</th>\n",
              "      <th></th>\n",
              "      <th></th>\n",
              "      <th></th>\n",
              "      <th></th>\n",
              "      <th></th>\n",
              "      <th></th>\n",
              "      <th></th>\n",
              "      <th></th>\n",
              "      <th></th>\n",
              "      <th></th>\n",
              "    </tr>\n",
              "  </thead>\n",
              "  <tbody>\n",
              "    <tr>\n",
              "      <th>2015-01-02</th>\n",
              "      <td>111.440002</td>\n",
              "      <td>107.349998</td>\n",
              "      <td>111.389999</td>\n",
              "      <td>109.330002</td>\n",
              "      <td>53204600.0</td>\n",
              "      <td>99.945885</td>\n",
              "      <td>NaN</td>\n",
              "      <td>NaN</td>\n",
              "      <td>NaN</td>\n",
              "      <td>NaN</td>\n",
              "    </tr>\n",
              "    <tr>\n",
              "      <th>2015-01-05</th>\n",
              "      <td>108.650002</td>\n",
              "      <td>105.410004</td>\n",
              "      <td>108.290001</td>\n",
              "      <td>106.250000</td>\n",
              "      <td>64285500.0</td>\n",
              "      <td>97.130241</td>\n",
              "      <td>-0.028172</td>\n",
              "      <td>-0.028576</td>\n",
              "      <td>NaN</td>\n",
              "      <td>NaN</td>\n",
              "    </tr>\n",
              "    <tr>\n",
              "      <th>2015-01-06</th>\n",
              "      <td>107.430000</td>\n",
              "      <td>104.629997</td>\n",
              "      <td>106.540001</td>\n",
              "      <td>106.260002</td>\n",
              "      <td>65797100.0</td>\n",
              "      <td>97.139420</td>\n",
              "      <td>0.000094</td>\n",
              "      <td>0.000094</td>\n",
              "      <td>NaN</td>\n",
              "      <td>NaN</td>\n",
              "    </tr>\n",
              "    <tr>\n",
              "      <th>2015-01-07</th>\n",
              "      <td>108.199997</td>\n",
              "      <td>106.699997</td>\n",
              "      <td>107.199997</td>\n",
              "      <td>107.750000</td>\n",
              "      <td>40105900.0</td>\n",
              "      <td>98.501518</td>\n",
              "      <td>0.014022</td>\n",
              "      <td>0.013925</td>\n",
              "      <td>NaN</td>\n",
              "      <td>NaN</td>\n",
              "    </tr>\n",
              "    <tr>\n",
              "      <th>2015-01-08</th>\n",
              "      <td>112.150002</td>\n",
              "      <td>108.699997</td>\n",
              "      <td>109.230003</td>\n",
              "      <td>111.889999</td>\n",
              "      <td>59364500.0</td>\n",
              "      <td>102.286186</td>\n",
              "      <td>0.038422</td>\n",
              "      <td>0.037703</td>\n",
              "      <td>NaN</td>\n",
              "      <td>NaN</td>\n",
              "    </tr>\n",
              "    <tr>\n",
              "      <th>...</th>\n",
              "      <td>...</td>\n",
              "      <td>...</td>\n",
              "      <td>...</td>\n",
              "      <td>...</td>\n",
              "      <td>...</td>\n",
              "      <td>...</td>\n",
              "      <td>...</td>\n",
              "      <td>...</td>\n",
              "      <td>...</td>\n",
              "      <td>...</td>\n",
              "    </tr>\n",
              "    <tr>\n",
              "      <th>2019-12-24</th>\n",
              "      <td>284.890015</td>\n",
              "      <td>282.920013</td>\n",
              "      <td>284.690002</td>\n",
              "      <td>284.269989</td>\n",
              "      <td>12119700.0</td>\n",
              "      <td>282.831299</td>\n",
              "      <td>0.000951</td>\n",
              "      <td>0.000950</td>\n",
              "      <td>263.344948</td>\n",
              "      <td>203.809667</td>\n",
              "    </tr>\n",
              "    <tr>\n",
              "      <th>2019-12-26</th>\n",
              "      <td>289.980011</td>\n",
              "      <td>284.700012</td>\n",
              "      <td>284.820007</td>\n",
              "      <td>289.910004</td>\n",
              "      <td>23280300.0</td>\n",
              "      <td>288.442780</td>\n",
              "      <td>0.019840</td>\n",
              "      <td>0.019646</td>\n",
              "      <td>264.388878</td>\n",
              "      <td>204.342933</td>\n",
              "    </tr>\n",
              "    <tr>\n",
              "      <th>2019-12-27</th>\n",
              "      <td>293.970001</td>\n",
              "      <td>288.119995</td>\n",
              "      <td>291.119995</td>\n",
              "      <td>289.799988</td>\n",
              "      <td>36566500.0</td>\n",
              "      <td>288.333313</td>\n",
              "      <td>-0.000380</td>\n",
              "      <td>-0.000380</td>\n",
              "      <td>265.371865</td>\n",
              "      <td>204.879732</td>\n",
              "    </tr>\n",
              "    <tr>\n",
              "      <th>2019-12-30</th>\n",
              "      <td>292.690002</td>\n",
              "      <td>285.220001</td>\n",
              "      <td>289.459991</td>\n",
              "      <td>291.519989</td>\n",
              "      <td>36028600.0</td>\n",
              "      <td>290.044617</td>\n",
              "      <td>0.005935</td>\n",
              "      <td>0.005918</td>\n",
              "      <td>266.531638</td>\n",
              "      <td>205.423011</td>\n",
              "    </tr>\n",
              "    <tr>\n",
              "      <th>2019-12-31</th>\n",
              "      <td>293.679993</td>\n",
              "      <td>289.519989</td>\n",
              "      <td>289.929993</td>\n",
              "      <td>293.649994</td>\n",
              "      <td>25201400.0</td>\n",
              "      <td>292.163818</td>\n",
              "      <td>0.007306</td>\n",
              "      <td>0.007280</td>\n",
              "      <td>267.742576</td>\n",
              "      <td>205.968825</td>\n",
              "    </tr>\n",
              "  </tbody>\n",
              "</table>\n",
              "<p>1258 rows × 10 columns</p>\n",
              "</div>"
            ],
            "text/plain": [
              "                  High         Low  ...      42mean     252mean\n",
              "Date                                ...                        \n",
              "2015-01-02  111.440002  107.349998  ...         NaN         NaN\n",
              "2015-01-05  108.650002  105.410004  ...         NaN         NaN\n",
              "2015-01-06  107.430000  104.629997  ...         NaN         NaN\n",
              "2015-01-07  108.199997  106.699997  ...         NaN         NaN\n",
              "2015-01-08  112.150002  108.699997  ...         NaN         NaN\n",
              "...                ...         ...  ...         ...         ...\n",
              "2019-12-24  284.890015  282.920013  ...  263.344948  203.809667\n",
              "2019-12-26  289.980011  284.700012  ...  264.388878  204.342933\n",
              "2019-12-27  293.970001  288.119995  ...  265.371865  204.879732\n",
              "2019-12-30  292.690002  285.220001  ...  266.531638  205.423011\n",
              "2019-12-31  293.679993  289.519989  ...  267.742576  205.968825\n",
              "\n",
              "[1258 rows x 10 columns]"
            ]
          },
          "metadata": {
            "tags": []
          },
          "execution_count": 35
        }
      ]
    },
    {
      "cell_type": "code",
      "metadata": {
        "id": "0G5Kb09s71tS",
        "colab_type": "code",
        "colab": {
          "base_uri": "https://localhost:8080/",
          "height": 290
        },
        "outputId": "41a2f915-3a7f-4a6a-f0ca-57c53be7af35"
      },
      "source": [
        "df[[\"Adj Close\",\"42mean\",\"252mean\"]].plot()"
      ],
      "execution_count": 37,
      "outputs": [
        {
          "output_type": "execute_result",
          "data": {
            "text/plain": [
              "<matplotlib.axes._subplots.AxesSubplot at 0x7fa0a7f7a390>"
            ]
          },
          "metadata": {
            "tags": []
          },
          "execution_count": 37
        },
        {
          "output_type": "display_data",
          "data": {
            "image/png": "[encoded data removed]",
            "text/plain": [
              "<Figure size 432x288 with 1 Axes>"
            ]
          },
          "metadata": {
            "tags": [],
            "needs_background": "light"
          }
        }
      ]
    },
    {
      "cell_type": "code",
      "metadata": {
        "id": "SKjPIOEJ8Mnq",
        "colab_type": "code",
        "colab": {}
      },
      "source": [
        "def make_portfolio(stocks,start_date,end_date):\n",
        "  def get_data(stock):\n",
        "    return pdr.get_data_yahoo(stock,start=start_date,end=end_date)\n",
        "  \n",
        "  stocks_data = map(get_data,stocks)\n",
        "\n",
        "  full_dataframe = pd.concat(stocks_data,keys=stocks,names=[\"Stock\",'Date'])\n",
        "\n",
        "  return full_dataframe[[\"Adj Close\"]].reset_index().pivot(index=\"Date\",columns=\"Stock\",values=\"Adj Close\")\n",
        "\n"
      ],
      "execution_count": 0,
      "outputs": []
    },
    {
      "cell_type": "code",
      "metadata": {
        "id": "v6rR0JR997bY",
        "colab_type": "code",
        "colab": {}
      },
      "source": [
        "stocks = [\"TSLA\",\"FB\",\"NFLX\",\"GOOG\",\"^IXIC\"]\n",
        "portfolio = make_portfolio(stocks,dt.datetime(2019,1,1),dt.datetime(2020,4,30))"
      ],
      "execution_count": 0,
      "outputs": []
    },
    {
      "cell_type": "code",
      "metadata": {
        "id": "QNRZD6g--hI3",
        "colab_type": "code",
        "colab": {
          "base_uri": "https://localhost:8080/",
          "height": 455
        },
        "outputId": "b07e5594-03b0-4473-d09a-37e7d99ade92"
      },
      "source": [
        "portfolio"
      ],
      "execution_count": 40,
      "outputs": [
        {
          "output_type": "execute_result",
          "data": {
            "text/html": [
              "<div>\n",
              "<style scoped>\n",
              "    .dataframe tbody tr th:only-of-type {\n",
              "        vertical-align: middle;\n",
              "    }\n",
              "\n",
              "    .dataframe tbody tr th {\n",
              "        vertical-align: top;\n",
              "    }\n",
              "\n",
              "    .dataframe thead th {\n",
              "        text-align: right;\n",
              "    }\n",
              "</style>\n",
              "<table border=\"1\" class=\"dataframe\">\n",
              "  <thead>\n",
              "    <tr style=\"text-align: right;\">\n",
              "      <th>Stock</th>\n",
              "      <th>FB</th>\n",
              "      <th>GOOG</th>\n",
              "      <th>NFLX</th>\n",
              "      <th>TSLA</th>\n",
              "      <th>^IXIC</th>\n",
              "    </tr>\n",
              "    <tr>\n",
              "      <th>Date</th>\n",
              "      <th></th>\n",
              "      <th></th>\n",
              "      <th></th>\n",
              "      <th></th>\n",
              "      <th></th>\n",
              "    </tr>\n",
              "  </thead>\n",
              "  <tbody>\n",
              "    <tr>\n",
              "      <th>2019-01-02</th>\n",
              "      <td>135.679993</td>\n",
              "      <td>1045.849976</td>\n",
              "      <td>267.660004</td>\n",
              "      <td>310.119995</td>\n",
              "      <td>6665.939941</td>\n",
              "    </tr>\n",
              "    <tr>\n",
              "      <th>2019-01-03</th>\n",
              "      <td>131.740005</td>\n",
              "      <td>1016.059998</td>\n",
              "      <td>271.200012</td>\n",
              "      <td>300.359985</td>\n",
              "      <td>6463.500000</td>\n",
              "    </tr>\n",
              "    <tr>\n",
              "      <th>2019-01-04</th>\n",
              "      <td>137.949997</td>\n",
              "      <td>1070.709961</td>\n",
              "      <td>297.570007</td>\n",
              "      <td>317.690002</td>\n",
              "      <td>6738.859863</td>\n",
              "    </tr>\n",
              "    <tr>\n",
              "      <th>2019-01-07</th>\n",
              "      <td>138.050003</td>\n",
              "      <td>1068.390015</td>\n",
              "      <td>315.339996</td>\n",
              "      <td>334.959991</td>\n",
              "      <td>6823.470215</td>\n",
              "    </tr>\n",
              "    <tr>\n",
              "      <th>2019-01-08</th>\n",
              "      <td>142.529999</td>\n",
              "      <td>1076.280029</td>\n",
              "      <td>320.269989</td>\n",
              "      <td>335.350006</td>\n",
              "      <td>6897.000000</td>\n",
              "    </tr>\n",
              "    <tr>\n",
              "      <th>...</th>\n",
              "      <td>...</td>\n",
              "      <td>...</td>\n",
              "      <td>...</td>\n",
              "      <td>...</td>\n",
              "      <td>...</td>\n",
              "    </tr>\n",
              "    <tr>\n",
              "      <th>2020-04-24</th>\n",
              "      <td>190.070007</td>\n",
              "      <td>1279.310059</td>\n",
              "      <td>424.989990</td>\n",
              "      <td>725.150024</td>\n",
              "      <td>8634.519531</td>\n",
              "    </tr>\n",
              "    <tr>\n",
              "      <th>2020-04-27</th>\n",
              "      <td>187.500000</td>\n",
              "      <td>1275.880005</td>\n",
              "      <td>421.380005</td>\n",
              "      <td>798.750000</td>\n",
              "      <td>8730.160156</td>\n",
              "    </tr>\n",
              "    <tr>\n",
              "      <th>2020-04-28</th>\n",
              "      <td>182.910004</td>\n",
              "      <td>1233.670044</td>\n",
              "      <td>403.829987</td>\n",
              "      <td>769.119995</td>\n",
              "      <td>8607.730469</td>\n",
              "    </tr>\n",
              "    <tr>\n",
              "      <th>2020-04-29</th>\n",
              "      <td>194.190002</td>\n",
              "      <td>1341.479980</td>\n",
              "      <td>411.890015</td>\n",
              "      <td>800.510010</td>\n",
              "      <td>8914.709961</td>\n",
              "    </tr>\n",
              "    <tr>\n",
              "      <th>2020-04-30</th>\n",
              "      <td>204.710007</td>\n",
              "      <td>1348.660034</td>\n",
              "      <td>419.850006</td>\n",
              "      <td>781.880005</td>\n",
              "      <td>8889.549805</td>\n",
              "    </tr>\n",
              "  </tbody>\n",
              "</table>\n",
              "<p>335 rows × 5 columns</p>\n",
              "</div>"
            ],
            "text/plain": [
              "Stock               FB         GOOG        NFLX        TSLA        ^IXIC\n",
              "Date                                                                    \n",
              "2019-01-02  135.679993  1045.849976  267.660004  310.119995  6665.939941\n",
              "2019-01-03  131.740005  1016.059998  271.200012  300.359985  6463.500000\n",
              "2019-01-04  137.949997  1070.709961  297.570007  317.690002  6738.859863\n",
              "2019-01-07  138.050003  1068.390015  315.339996  334.959991  6823.470215\n",
              "2019-01-08  142.529999  1076.280029  320.269989  335.350006  6897.000000\n",
              "...                ...          ...         ...         ...          ...\n",
              "2020-04-24  190.070007  1279.310059  424.989990  725.150024  8634.519531\n",
              "2020-04-27  187.500000  1275.880005  421.380005  798.750000  8730.160156\n",
              "2020-04-28  182.910004  1233.670044  403.829987  769.119995  8607.730469\n",
              "2020-04-29  194.190002  1341.479980  411.890015  800.510010  8914.709961\n",
              "2020-04-30  204.710007  1348.660034  419.850006  781.880005  8889.549805\n",
              "\n",
              "[335 rows x 5 columns]"
            ]
          },
          "metadata": {
            "tags": []
          },
          "execution_count": 40
        }
      ]
    },
    {
      "cell_type": "code",
      "metadata": {
        "id": "jsb_KB6D-iv1",
        "colab_type": "code",
        "colab": {}
      },
      "source": [
        "import matplotlib.pyplot as plt\n",
        "\n",
        "def compare_to_benchmark(portfolio,benchmark):\n",
        "  benchmark_color_dict = {benchmark:\"red\"}\n",
        "  plt.figure(figsize=(15,20))\n",
        "  return (1+portfolio.pct_change()).cumprod().fillna(1).plot(color=[benchmark_color_dict.get(x,np.random.rand(3))for x in portfolio.columns])\n"
      ],
      "execution_count": 0,
      "outputs": []
    },
    {
      "cell_type": "code",
      "metadata": {
        "id": "bfTWLSI4FYCD",
        "colab_type": "code",
        "colab": {
          "base_uri": "https://localhost:8080/",
          "height": 314
        },
        "outputId": "a9f14a78-ecb7-4ba0-904b-682c3005083b"
      },
      "source": [
        "compare_to_benchmark(portfolio,\"^IXIC\")"
      ],
      "execution_count": 45,
      "outputs": [
        {
          "output_type": "execute_result",
          "data": {
            "text/plain": [
              "<matplotlib.axes._subplots.AxesSubplot at 0x7fa0a7e41828>"
            ]
          },
          "metadata": {
            "tags": []
          },
          "execution_count": 45
        },
        {
          "output_type": "display_data",
          "data": {
            "text/plain": [
              "<Figure size 1080x1440 with 0 Axes>"
            ]
          },
          "metadata": {
            "tags": []
          }
        },
        {
          "output_type": "display_data",
          "data": {
            "image/png": "[encoded data removed]",
            "text/plain": [
              "<Figure size 432x288 with 1 Axes>"
            ]
          },
          "metadata": {
            "tags": [],
            "needs_background": "light"
          }
        }
      ]
    },
    {
      "cell_type": "code",
      "metadata": {
        "id": "MpWahpK2FgO7",
        "colab_type": "code",
        "colab": {
          "base_uri": "https://localhost:8080/",
          "height": 237
        },
        "outputId": "4cccea6f-df79-4643-de03-514658c62b9a"
      },
      "source": [
        "portfolio.pct_change().corr().round(2)"
      ],
      "execution_count": 46,
      "outputs": [
        {
          "output_type": "execute_result",
          "data": {
            "text/html": [
              "<div>\n",
              "<style scoped>\n",
              "    .dataframe tbody tr th:only-of-type {\n",
              "        vertical-align: middle;\n",
              "    }\n",
              "\n",
              "    .dataframe tbody tr th {\n",
              "        vertical-align: top;\n",
              "    }\n",
              "\n",
              "    .dataframe thead th {\n",
              "        text-align: right;\n",
              "    }\n",
              "</style>\n",
              "<table border=\"1\" class=\"dataframe\">\n",
              "  <thead>\n",
              "    <tr style=\"text-align: right;\">\n",
              "      <th>Stock</th>\n",
              "      <th>FB</th>\n",
              "      <th>GOOG</th>\n",
              "      <th>NFLX</th>\n",
              "      <th>TSLA</th>\n",
              "      <th>^IXIC</th>\n",
              "    </tr>\n",
              "    <tr>\n",
              "      <th>Stock</th>\n",
              "      <th></th>\n",
              "      <th></th>\n",
              "      <th></th>\n",
              "      <th></th>\n",
              "      <th></th>\n",
              "    </tr>\n",
              "  </thead>\n",
              "  <tbody>\n",
              "    <tr>\n",
              "      <th>FB</th>\n",
              "      <td>1.00</td>\n",
              "      <td>0.77</td>\n",
              "      <td>0.52</td>\n",
              "      <td>0.38</td>\n",
              "      <td>0.80</td>\n",
              "    </tr>\n",
              "    <tr>\n",
              "      <th>GOOG</th>\n",
              "      <td>0.77</td>\n",
              "      <td>1.00</td>\n",
              "      <td>0.55</td>\n",
              "      <td>0.41</td>\n",
              "      <td>0.86</td>\n",
              "    </tr>\n",
              "    <tr>\n",
              "      <th>NFLX</th>\n",
              "      <td>0.52</td>\n",
              "      <td>0.55</td>\n",
              "      <td>1.00</td>\n",
              "      <td>0.37</td>\n",
              "      <td>0.62</td>\n",
              "    </tr>\n",
              "    <tr>\n",
              "      <th>TSLA</th>\n",
              "      <td>0.38</td>\n",
              "      <td>0.41</td>\n",
              "      <td>0.37</td>\n",
              "      <td>1.00</td>\n",
              "      <td>0.51</td>\n",
              "    </tr>\n",
              "    <tr>\n",
              "      <th>^IXIC</th>\n",
              "      <td>0.80</td>\n",
              "      <td>0.86</td>\n",
              "      <td>0.62</td>\n",
              "      <td>0.51</td>\n",
              "      <td>1.00</td>\n",
              "    </tr>\n",
              "  </tbody>\n",
              "</table>\n",
              "</div>"
            ],
            "text/plain": [
              "Stock    FB  GOOG  NFLX  TSLA  ^IXIC\n",
              "Stock                               \n",
              "FB     1.00  0.77  0.52  0.38   0.80\n",
              "GOOG   0.77  1.00  0.55  0.41   0.86\n",
              "NFLX   0.52  0.55  1.00  0.37   0.62\n",
              "TSLA   0.38  0.41  0.37  1.00   0.51\n",
              "^IXIC  0.80  0.86  0.62  0.51   1.00"
            ]
          },
          "metadata": {
            "tags": []
          },
          "execution_count": 46
        }
      ]
    },
    {
      "cell_type": "code",
      "metadata": {
        "id": "E0-ZRWqfGNJS",
        "colab_type": "code",
        "colab": {}
      },
      "source": [
        "import seaborn as sns"
      ],
      "execution_count": 0,
      "outputs": []
    },
    {
      "cell_type": "code",
      "metadata": {
        "id": "V13ZNHP-GUpm",
        "colab_type": "code",
        "colab": {
          "base_uri": "https://localhost:8080/",
          "height": 302
        },
        "outputId": "25d15294-8a80-4aa6-d4fe-ecc5aa430d2e"
      },
      "source": [
        "sns.heatmap(portfolio.pct_change().corr().round(2))"
      ],
      "execution_count": 48,
      "outputs": [
        {
          "output_type": "execute_result",
          "data": {
            "text/plain": [
              "<matplotlib.axes._subplots.AxesSubplot at 0x7fa09d2b2320>"
            ]
          },
          "metadata": {
            "tags": []
          },
          "execution_count": 48
        },
        {
          "output_type": "display_data",
          "data": {
            "image/png": "[encoded data removed]",
            "text/plain": [
              "<Figure size 432x288 with 2 Axes>"
            ]
          },
          "metadata": {
            "tags": [],
            "needs_background": "light"
          }
        }
      ]
    },
    {
      "cell_type": "code",
      "metadata": {
        "id": "lxP-i-PvGlTi",
        "colab_type": "code",
        "colab": {
          "base_uri": "https://localhost:8080/",
          "height": 237
        },
        "outputId": "babb8ab3-2ee8-4325-c2b7-f9043b0cebd7"
      },
      "source": [
        "portfolio.head()"
      ],
      "execution_count": 49,
      "outputs": [
        {
          "output_type": "execute_result",
          "data": {
            "text/html": [
              "<div>\n",
              "<style scoped>\n",
              "    .dataframe tbody tr th:only-of-type {\n",
              "        vertical-align: middle;\n",
              "    }\n",
              "\n",
              "    .dataframe tbody tr th {\n",
              "        vertical-align: top;\n",
              "    }\n",
              "\n",
              "    .dataframe thead th {\n",
              "        text-align: right;\n",
              "    }\n",
              "</style>\n",
              "<table border=\"1\" class=\"dataframe\">\n",
              "  <thead>\n",
              "    <tr style=\"text-align: right;\">\n",
              "      <th>Stock</th>\n",
              "      <th>FB</th>\n",
              "      <th>GOOG</th>\n",
              "      <th>NFLX</th>\n",
              "      <th>TSLA</th>\n",
              "      <th>^IXIC</th>\n",
              "    </tr>\n",
              "    <tr>\n",
              "      <th>Date</th>\n",
              "      <th></th>\n",
              "      <th></th>\n",
              "      <th></th>\n",
              "      <th></th>\n",
              "      <th></th>\n",
              "    </tr>\n",
              "  </thead>\n",
              "  <tbody>\n",
              "    <tr>\n",
              "      <th>2019-01-02</th>\n",
              "      <td>135.679993</td>\n",
              "      <td>1045.849976</td>\n",
              "      <td>267.660004</td>\n",
              "      <td>310.119995</td>\n",
              "      <td>6665.939941</td>\n",
              "    </tr>\n",
              "    <tr>\n",
              "      <th>2019-01-03</th>\n",
              "      <td>131.740005</td>\n",
              "      <td>1016.059998</td>\n",
              "      <td>271.200012</td>\n",
              "      <td>300.359985</td>\n",
              "      <td>6463.500000</td>\n",
              "    </tr>\n",
              "    <tr>\n",
              "      <th>2019-01-04</th>\n",
              "      <td>137.949997</td>\n",
              "      <td>1070.709961</td>\n",
              "      <td>297.570007</td>\n",
              "      <td>317.690002</td>\n",
              "      <td>6738.859863</td>\n",
              "    </tr>\n",
              "    <tr>\n",
              "      <th>2019-01-07</th>\n",
              "      <td>138.050003</td>\n",
              "      <td>1068.390015</td>\n",
              "      <td>315.339996</td>\n",
              "      <td>334.959991</td>\n",
              "      <td>6823.470215</td>\n",
              "    </tr>\n",
              "    <tr>\n",
              "      <th>2019-01-08</th>\n",
              "      <td>142.529999</td>\n",
              "      <td>1076.280029</td>\n",
              "      <td>320.269989</td>\n",
              "      <td>335.350006</td>\n",
              "      <td>6897.000000</td>\n",
              "    </tr>\n",
              "  </tbody>\n",
              "</table>\n",
              "</div>"
            ],
            "text/plain": [
              "Stock               FB         GOOG        NFLX        TSLA        ^IXIC\n",
              "Date                                                                    \n",
              "2019-01-02  135.679993  1045.849976  267.660004  310.119995  6665.939941\n",
              "2019-01-03  131.740005  1016.059998  271.200012  300.359985  6463.500000\n",
              "2019-01-04  137.949997  1070.709961  297.570007  317.690002  6738.859863\n",
              "2019-01-07  138.050003  1068.390015  315.339996  334.959991  6823.470215\n",
              "2019-01-08  142.529999  1076.280029  320.269989  335.350006  6897.000000"
            ]
          },
          "metadata": {
            "tags": []
          },
          "execution_count": 49
        }
      ]
    },
    {
      "cell_type": "markdown",
      "metadata": {
        "id": "dCAgH4ukG7GL",
        "colab_type": "text"
      },
      "source": [
        "Summary"
      ]
    },
    {
      "cell_type": "code",
      "metadata": {
        "id": "Buibhag4G906",
        "colab_type": "code",
        "colab": {}
      },
      "source": [
        "portfolio_input = [5000,1000,3000,1000]"
      ],
      "execution_count": 0,
      "outputs": []
    },
    {
      "cell_type": "code",
      "metadata": {
        "id": "mNyVJzLXHE9E",
        "colab_type": "code",
        "colab": {}
      },
      "source": [
        "def portfolio_summary(portfolio,portfolio_input,benchmark):\n",
        "  total_investment = sum(portfolio_input)\n",
        "  portfolio_change = (1+portfolio.pct_change()).cumprod().fillna(1)\n",
        "\n",
        "  portfolio_value = portfolio_change.drop(benchmark,axis=1).multiply(portfolio_input,axis=1).sum(axis=1).to_frame(name=\"portfolio_value\").round(2)\n",
        "  portfolio_value[\"benchmark\"] = (portfolio_change[benchmark]*total_investment).round(2)\n",
        "\n",
        "  print(f\"Value of wallet:{portfolio_value['portfolio_value'][-1]}\")\n",
        "  print(f\"Value of wallet change to start about:{((portfolio_value['portfolio_value'][-1]/total_investment-1)*100).round(2)} %\")\n",
        "  print(f\"Value of wallet change to benchmark about:{((portfolio_value['portfolio_value'][-1]/portfolio_value['benchmark'][-1]-1)*100).round(2)} %\")\n",
        "  print(\"-\"*10+\"\\n\")\n",
        "\n",
        "  return portfolio_value.plot()"
      ],
      "execution_count": 0,
      "outputs": []
    },
    {
      "cell_type": "markdown",
      "metadata": {
        "id": "hSiEstnhMtwy",
        "colab_type": "text"
      },
      "source": [
        ""
      ]
    },
    {
      "cell_type": "code",
      "metadata": {
        "id": "xssU0ln7LM5b",
        "colab_type": "code",
        "colab": {
          "base_uri": "https://localhost:8080/",
          "height": 390
        },
        "outputId": "7c296ae7-a054-4b32-a970-b8bf6a82a3d4"
      },
      "source": [
        "portfolio_summary(portfolio,portfolio_input,\"^IXIC\")"
      ],
      "execution_count": 67,
      "outputs": [
        {
          "output_type": "stream",
          "text": [
            "Value of wallet:16060.39\n",
            "Value of wallet change to start about:60.6 %\n",
            "Value of wallet change to benchmark about:20.43 %\n",
            "----------\n",
            "\n"
          ],
          "name": "stdout"
        },
        {
          "output_type": "execute_result",
          "data": {
            "text/plain": [
              "<matplotlib.axes._subplots.AxesSubplot at 0x7fa09a8dbda0>"
            ]
          },
          "metadata": {
            "tags": []
          },
          "execution_count": 67
        },
        {
          "output_type": "display_data",
          "data": {
            "image/png": "[encoded data removed]",
            "text/plain": [
              "<Figure size 432x288 with 1 Axes>"
            ]
          },
          "metadata": {
            "tags": [],
            "needs_background": "light"
          }
        }
      ]
    },
    {
      "cell_type": "code",
      "metadata": {
        "id": "QCro_NE9NA0d",
        "colab_type": "code",
        "colab": {}
      },
      "source": [
        "# volatilities in year\n",
        "def portfolio_votality(portfolio):\n",
        "  daily_change = np.log(portfolio.pct_change()+1)\n",
        "  volatilities = daily_change.std() * np.sqrt(252)\n",
        "  return volatilities\n"
      ],
      "execution_count": 0,
      "outputs": []
    },
    {
      "cell_type": "code",
      "metadata": {
        "id": "XfrePQgZNoTm",
        "colab_type": "code",
        "colab": {
          "base_uri": "https://localhost:8080/",
          "height": 147
        },
        "outputId": "83a713c5-8cc1-461e-ad88-c5d1befc1b92"
      },
      "source": [
        "portfolio_votality(portfolio)"
      ],
      "execution_count": 71,
      "outputs": [
        {
          "output_type": "execute_result",
          "data": {
            "text/plain": [
              "Stock\n",
              "FB       0.379937\n",
              "GOOG     0.341140\n",
              "NFLX     0.408223\n",
              "TSLA     0.706626\n",
              "^IXIC    0.298031\n",
              "dtype: float64"
            ]
          },
          "metadata": {
            "tags": []
          },
          "execution_count": 71
        }
      ]
    },
    {
      "cell_type": "markdown",
      "metadata": {
        "id": "Z6gmGazLN2l2",
        "colab_type": "text"
      },
      "source": [
        "symulacja monte carlo\n",
        "zaprogramowanie strategii w oparciu o analize techniczna\n",
        "analiza statystyczna szeregow stop zwrotu inwwestycji"
      ]
    }
  ]
}